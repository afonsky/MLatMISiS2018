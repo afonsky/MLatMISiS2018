{
  "nbformat": 4,
  "nbformat_minor": 0,
  "metadata": {
    "colab": {
      "name": "Basics of data handling.ipynb",
      "version": "0.3.2",
      "provenance": [],
      "collapsed_sections": [
        "lcK5eAjBedmi"
      ],
      "toc_visible": true,
      "include_colab_link": true
    },
    "kernelspec": {
      "name": "python3",
      "display_name": "Python 3"
    }
  },
  "cells": [
    {
      "cell_type": "markdown",
      "metadata": {
        "id": "view-in-github",
        "colab_type": "text"
      },
      "source": [
        "<a href=\"https://colab.research.google.com/github/yandexdataschool/MLatMISiS2018/blob/master/01_lab/02-Basics_of_data_handling.ipynb\" target=\"_parent\"><img src=\"https://colab.research.google.com/assets/colab-badge.svg\" alt=\"Open In Colab\"/></a>"
      ]
    },
    {
      "metadata": {
        "id": "wqbf5Fh2xGSH",
        "colab_type": "text"
      },
      "cell_type": "markdown",
      "source": [
        "# Welcome to the seminar!\n",
        "\n",
        "We hope you will enjoy it.\n",
        "\n",
        "\n",
        "Artem, Alexey"
      ]
    },
    {
      "metadata": {
        "id": "-baig3N_wxhg",
        "colab_type": "text"
      },
      "cell_type": "markdown",
      "source": [
        "# Outline of the seminar\n",
        "\n",
        "* Introduction to Python (pre-seminar)\n",
        "* Introduction to useful Python libraries (pre-seminar)\n",
        "* **Basics of data handling**\n",
        " * pandas library\n",
        " * common file formats in HEP\n",
        "* Performing maximum likelihood fit on a toy model\n",
        "* Maximum likelihood fit on real data from CERN"
      ]
    },
    {
      "metadata": {
        "id": "cVC3dEW2M1gw",
        "colab_type": "text"
      },
      "cell_type": "markdown",
      "source": [
        "# Basics of data handling"
      ]
    },
    {
      "metadata": {
        "id": "G4FiVyTcqWQm",
        "colab_type": "text"
      },
      "cell_type": "markdown",
      "source": [
        "Prerequisites for this practice session are following:\n",
        "\n",
        "* [Python](https://colab.research.google.com/github/yandexdataschool/MLatMISiS2018/blob/master/01_lab/00-Introduction_to_Python.ipynb)\n",
        "\n",
        "* [Jupyter Notebooks](https://colab.research.google.com/github/yandexdataschool/MLatMISiS2018/blob/master/01_lab/00-Introduction_to_Python.ipynb#scrollTo=zWI1ypD96S1k)\n",
        "\n",
        "* [NumPy](https://colab.research.google.com/github/yandexdataschool/MLatMISiS2018/blob/master/01_lab/01-Introduction_to_useful_Python_libraries.ipynb#scrollTo=cuMGoP0fRx0w)\n",
        "\n",
        "* [Matplotlib](https://colab.research.google.com/github/yandexdataschool/MLatMISiS2018/blob/master/01_lab/01-Introduction_to_useful_Python_libraries.ipynb#scrollTo=FrJiGNF1irL2)\n",
        "\n",
        "Note that links above lead to blank notebooks (the same as you see them on [GitHub repository](https://github.com/yandexdataschool/MLatMISiS2018)). In case you need the notebooks where you made changes/notes you should save them as .ipynb or copy to Google Drive (Colab only)."
      ]
    },
    {
      "metadata": {
        "id": "ZhU9jMKepA-s",
        "colab_type": "text"
      },
      "cell_type": "markdown",
      "source": [
        "## Pandas \n",
        "pandas is a library providing high-performance, easy-to-use data structures and data analysis tools for the Python programming language."
      ]
    },
    {
      "metadata": {
        "id": "KJ8Xch9UpSnZ",
        "colab_type": "code",
        "colab": {}
      },
      "cell_type": "code",
      "source": [
        "import pandas as pd\n",
        "import numpy as np\n",
        "import matplotlib.pyplot as plt"
      ],
      "execution_count": 0,
      "outputs": []
    },
    {
      "metadata": {
        "id": "DpkO5os_tMHV",
        "colab_type": "text"
      },
      "cell_type": "markdown",
      "source": [
        "**Pandas Dataframes**\n",
        "\n",
        "One way of manipulating your data (slicing, filtering, removing variables, creating new features, taking operations of branches) in a simple, visually appealing way is to use `pandas` dataframes, a beatiful and efficient Python data structure library. Recommended for exploratory data analysis, probably not for high performance applications.\n",
        "\n",
        "\n",
        "The main object here is `pandas.DataFrame` – a two-dimensional table of (possibly heterogeneous) data. There is a number a ways to create a `DataFrame`, but possibly one of the most common ways is to construct it by reading a text file of tabulated data with a specified delimiter (i.e. CSV files):"
      ]
    },
    {
      "metadata": {
        "id": "yr1cVv4xvkbr",
        "colab_type": "code",
        "outputId": "098b8e14-1140-4960-d7c4-640960f80bf9",
        "colab": {
          "base_uri": "https://localhost:8080/",
          "height": 35
        }
      },
      "cell_type": "code",
      "source": [
        "df = pd.read_csv(\"https://raw.githubusercontent.com/yandexdataschool/MLatMISiS2018/master/01_lab/data/moscow_weather_2018-11-14.csv\",\n",
        "                 delimiter=';')\n",
        "type(df)"
      ],
      "execution_count": 2,
      "outputs": [
        {
          "output_type": "execute_result",
          "data": {
            "text/plain": [
              "pandas.core.frame.DataFrame"
            ]
          },
          "metadata": {
            "tags": []
          },
          "execution_count": 2
        }
      ]
    },
    {
      "metadata": {
        "id": "VkqYznM4aKtI",
        "colab_type": "text"
      },
      "cell_type": "markdown",
      "source": [
        "What is this? Weather in Moscow for last 2 weeks (taken from [here](https://www.meteoblue.com/en/weather/archive/export/moscow_russia_524901))."
      ]
    },
    {
      "metadata": {
        "id": "qQuLl7EYLAd8",
        "colab_type": "code",
        "outputId": "182409f0-6964-471b-8cdd-645e24ef1f2b",
        "colab": {
          "base_uri": "https://localhost:8080/",
          "height": 294
        }
      },
      "cell_type": "code",
      "source": [
        "fig, ax = plt.subplots(figsize=(14,4))\n",
        "ax.plot(pd.to_datetime(df[['Year', 'Month', 'Day', 'Hour']]), df['Temperature  [2 m above gnd]'])\n",
        "ax.axis('tight')\n",
        "ax.set_title('Tempeature in Moscow')\n",
        "ax.set_xlabel('Date')\n",
        "ax.set_ylabel('Temperature (C)');"
      ],
      "execution_count": 3,
      "outputs": [
        {
          "output_type": "display_data",
          "data": {
            "image/png": "[encoded data removed]",
            "text/plain": [
              "<matplotlib.figure.Figure at 0x7f0b30e02be0>"
            ]
          },
          "metadata": {
            "tags": []
          }
        }
      ]
    },
    {
      "metadata": {
        "id": "YRKfqlzZJqFr",
        "colab_type": "text"
      },
      "cell_type": "markdown",
      "source": [
        "Let's dig into the data.\n",
        "\n",
        "Look at the first N (5 by default) rows of the data:"
      ]
    },
    {
      "metadata": {
        "id": "U8SqrYS2wFgN",
        "colab_type": "code",
        "outputId": "beac804d-08f9-429d-a084-21db0d1f6755",
        "colab": {
          "base_uri": "https://localhost:8080/",
          "height": 241
        }
      },
      "cell_type": "code",
      "source": [
        "df.head()"
      ],
      "execution_count": 4,
      "outputs": [
        {
          "output_type": "execute_result",
          "data": {
            "text/html": [
              "<div>\n",
              "<style scoped>\n",
              "    .dataframe tbody tr th:only-of-type {\n",
              "        vertical-align: middle;\n",
              "    }\n",
              "\n",
              "    .dataframe tbody tr th {\n",
              "        vertical-align: top;\n",
              "    }\n",
              "\n",
              "    .dataframe thead th {\n",
              "        text-align: right;\n",
              "    }\n",
              "</style>\n",
              "<table border=\"1\" class=\"dataframe\">\n",
              "  <thead>\n",
              "    <tr style=\"text-align: right;\">\n",
              "      <th></th>\n",
              "      <th>Year</th>\n",
              "      <th>Month</th>\n",
              "      <th>Day</th>\n",
              "      <th>Hour</th>\n",
              "      <th>Minute</th>\n",
              "      <th>Temperature  [2 m above gnd]</th>\n",
              "      <th>Total Precipitation (high resolution)  [sfc]</th>\n",
              "      <th>Wind Speed  [10 m above gnd]</th>\n",
              "      <th>Wind Direction  [10 m above gnd]</th>\n",
              "    </tr>\n",
              "  </thead>\n",
              "  <tbody>\n",
              "    <tr>\n",
              "      <th>0</th>\n",
              "      <td>2018</td>\n",
              "      <td>10</td>\n",
              "      <td>31</td>\n",
              "      <td>0</td>\n",
              "      <td>0</td>\n",
              "      <td>-0.58</td>\n",
              "      <td>0.0</td>\n",
              "      <td>21.41</td>\n",
              "      <td>106.61</td>\n",
              "    </tr>\n",
              "    <tr>\n",
              "      <th>1</th>\n",
              "      <td>2018</td>\n",
              "      <td>10</td>\n",
              "      <td>31</td>\n",
              "      <td>1</td>\n",
              "      <td>0</td>\n",
              "      <td>-0.72</td>\n",
              "      <td>0.0</td>\n",
              "      <td>21.29</td>\n",
              "      <td>108.74</td>\n",
              "    </tr>\n",
              "    <tr>\n",
              "      <th>2</th>\n",
              "      <td>2018</td>\n",
              "      <td>10</td>\n",
              "      <td>31</td>\n",
              "      <td>2</td>\n",
              "      <td>0</td>\n",
              "      <td>-0.77</td>\n",
              "      <td>0.0</td>\n",
              "      <td>21.29</td>\n",
              "      <td>108.74</td>\n",
              "    </tr>\n",
              "    <tr>\n",
              "      <th>3</th>\n",
              "      <td>2018</td>\n",
              "      <td>10</td>\n",
              "      <td>31</td>\n",
              "      <td>3</td>\n",
              "      <td>0</td>\n",
              "      <td>-0.88</td>\n",
              "      <td>0.0</td>\n",
              "      <td>21.63</td>\n",
              "      <td>108.43</td>\n",
              "    </tr>\n",
              "    <tr>\n",
              "      <th>4</th>\n",
              "      <td>2018</td>\n",
              "      <td>10</td>\n",
              "      <td>31</td>\n",
              "      <td>4</td>\n",
              "      <td>0</td>\n",
              "      <td>-1.02</td>\n",
              "      <td>0.0</td>\n",
              "      <td>22.67</td>\n",
              "      <td>110.45</td>\n",
              "    </tr>\n",
              "  </tbody>\n",
              "</table>\n",
              "</div>"
            ],
            "text/plain": [
              "   Year  Month  Day  Hour  Minute  Temperature  [2 m above gnd]  \\\n",
              "0  2018     10   31     0       0                         -0.58   \n",
              "1  2018     10   31     1       0                         -0.72   \n",
              "2  2018     10   31     2       0                         -0.77   \n",
              "3  2018     10   31     3       0                         -0.88   \n",
              "4  2018     10   31     4       0                         -1.02   \n",
              "\n",
              "   Total Precipitation (high resolution)  [sfc]  Wind Speed  [10 m above gnd]  \\\n",
              "0                                           0.0                         21.41   \n",
              "1                                           0.0                         21.29   \n",
              "2                                           0.0                         21.29   \n",
              "3                                           0.0                         21.63   \n",
              "4                                           0.0                         22.67   \n",
              "\n",
              "   Wind Direction  [10 m above gnd]  \n",
              "0                            106.61  \n",
              "1                            108.74  \n",
              "2                            108.74  \n",
              "3                            108.43  \n",
              "4                            110.45  "
            ]
          },
          "metadata": {
            "tags": []
          },
          "execution_count": 4
        }
      ]
    },
    {
      "metadata": {
        "id": "1f3uoGnSwU5x",
        "colab_type": "text"
      },
      "cell_type": "markdown",
      "source": [
        "Let's pick a rows from 3 to 10 and store the result as an independent copy of the original data:"
      ]
    },
    {
      "metadata": {
        "id": "A5RyIXGXwRe6",
        "colab_type": "code",
        "outputId": "982db59a-d7ca-4a7d-d0e5-bcdd96f1a5fe",
        "colab": {
          "base_uri": "https://localhost:8080/",
          "height": 335
        }
      },
      "cell_type": "code",
      "source": [
        "small_df = df.loc[3:10].copy()\n",
        "small_df"
      ],
      "execution_count": 5,
      "outputs": [
        {
          "output_type": "execute_result",
          "data": {
            "text/html": [
              "<div>\n",
              "<style scoped>\n",
              "    .dataframe tbody tr th:only-of-type {\n",
              "        vertical-align: middle;\n",
              "    }\n",
              "\n",
              "    .dataframe tbody tr th {\n",
              "        vertical-align: top;\n",
              "    }\n",
              "\n",
              "    .dataframe thead th {\n",
              "        text-align: right;\n",
              "    }\n",
              "</style>\n",
              "<table border=\"1\" class=\"dataframe\">\n",
              "  <thead>\n",
              "    <tr style=\"text-align: right;\">\n",
              "      <th></th>\n",
              "      <th>Year</th>\n",
              "      <th>Month</th>\n",
              "      <th>Day</th>\n",
              "      <th>Hour</th>\n",
              "      <th>Minute</th>\n",
              "      <th>Temperature  [2 m above gnd]</th>\n",
              "      <th>Total Precipitation (high resolution)  [sfc]</th>\n",
              "      <th>Wind Speed  [10 m above gnd]</th>\n",
              "      <th>Wind Direction  [10 m above gnd]</th>\n",
              "    </tr>\n",
              "  </thead>\n",
              "  <tbody>\n",
              "    <tr>\n",
              "      <th>3</th>\n",
              "      <td>2018</td>\n",
              "      <td>10</td>\n",
              "      <td>31</td>\n",
              "      <td>3</td>\n",
              "      <td>0</td>\n",
              "      <td>-0.88</td>\n",
              "      <td>0.0</td>\n",
              "      <td>21.63</td>\n",
              "      <td>108.43</td>\n",
              "    </tr>\n",
              "    <tr>\n",
              "      <th>4</th>\n",
              "      <td>2018</td>\n",
              "      <td>10</td>\n",
              "      <td>31</td>\n",
              "      <td>4</td>\n",
              "      <td>0</td>\n",
              "      <td>-1.02</td>\n",
              "      <td>0.0</td>\n",
              "      <td>22.67</td>\n",
              "      <td>110.45</td>\n",
              "    </tr>\n",
              "    <tr>\n",
              "      <th>5</th>\n",
              "      <td>2018</td>\n",
              "      <td>10</td>\n",
              "      <td>31</td>\n",
              "      <td>5</td>\n",
              "      <td>0</td>\n",
              "      <td>-1.16</td>\n",
              "      <td>0.0</td>\n",
              "      <td>22.60</td>\n",
              "      <td>112.48</td>\n",
              "    </tr>\n",
              "    <tr>\n",
              "      <th>6</th>\n",
              "      <td>2018</td>\n",
              "      <td>10</td>\n",
              "      <td>31</td>\n",
              "      <td>6</td>\n",
              "      <td>0</td>\n",
              "      <td>-1.35</td>\n",
              "      <td>0.0</td>\n",
              "      <td>23.03</td>\n",
              "      <td>114.96</td>\n",
              "    </tr>\n",
              "    <tr>\n",
              "      <th>7</th>\n",
              "      <td>2018</td>\n",
              "      <td>10</td>\n",
              "      <td>31</td>\n",
              "      <td>7</td>\n",
              "      <td>0</td>\n",
              "      <td>-1.53</td>\n",
              "      <td>0.0</td>\n",
              "      <td>23.19</td>\n",
              "      <td>117.76</td>\n",
              "    </tr>\n",
              "    <tr>\n",
              "      <th>8</th>\n",
              "      <td>2018</td>\n",
              "      <td>10</td>\n",
              "      <td>31</td>\n",
              "      <td>8</td>\n",
              "      <td>0</td>\n",
              "      <td>-1.67</td>\n",
              "      <td>0.0</td>\n",
              "      <td>23.09</td>\n",
              "      <td>120.96</td>\n",
              "    </tr>\n",
              "    <tr>\n",
              "      <th>9</th>\n",
              "      <td>2018</td>\n",
              "      <td>10</td>\n",
              "      <td>31</td>\n",
              "      <td>9</td>\n",
              "      <td>0</td>\n",
              "      <td>-1.12</td>\n",
              "      <td>0.0</td>\n",
              "      <td>23.98</td>\n",
              "      <td>125.84</td>\n",
              "    </tr>\n",
              "    <tr>\n",
              "      <th>10</th>\n",
              "      <td>2018</td>\n",
              "      <td>10</td>\n",
              "      <td>31</td>\n",
              "      <td>10</td>\n",
              "      <td>0</td>\n",
              "      <td>0.11</td>\n",
              "      <td>0.0</td>\n",
              "      <td>24.76</td>\n",
              "      <td>130.87</td>\n",
              "    </tr>\n",
              "  </tbody>\n",
              "</table>\n",
              "</div>"
            ],
            "text/plain": [
              "    Year  Month  Day  Hour  Minute  Temperature  [2 m above gnd]  \\\n",
              "3   2018     10   31     3       0                         -0.88   \n",
              "4   2018     10   31     4       0                         -1.02   \n",
              "5   2018     10   31     5       0                         -1.16   \n",
              "6   2018     10   31     6       0                         -1.35   \n",
              "7   2018     10   31     7       0                         -1.53   \n",
              "8   2018     10   31     8       0                         -1.67   \n",
              "9   2018     10   31     9       0                         -1.12   \n",
              "10  2018     10   31    10       0                          0.11   \n",
              "\n",
              "    Total Precipitation (high resolution)  [sfc]  \\\n",
              "3                                            0.0   \n",
              "4                                            0.0   \n",
              "5                                            0.0   \n",
              "6                                            0.0   \n",
              "7                                            0.0   \n",
              "8                                            0.0   \n",
              "9                                            0.0   \n",
              "10                                           0.0   \n",
              "\n",
              "    Wind Speed  [10 m above gnd]  Wind Direction  [10 m above gnd]  \n",
              "3                          21.63                            108.43  \n",
              "4                          22.67                            110.45  \n",
              "5                          22.60                            112.48  \n",
              "6                          23.03                            114.96  \n",
              "7                          23.19                            117.76  \n",
              "8                          23.09                            120.96  \n",
              "9                          23.98                            125.84  \n",
              "10                         24.76                            130.87  "
            ]
          },
          "metadata": {
            "tags": []
          },
          "execution_count": 5
        }
      ]
    },
    {
      "metadata": {
        "id": "qhgZYXrkAz3v",
        "colab_type": "text"
      },
      "cell_type": "markdown",
      "source": [
        "Note that small_df has index starting from 3:"
      ]
    },
    {
      "metadata": {
        "id": "MNexuqQ7wRSt",
        "colab_type": "code",
        "outputId": "82d92561-1ce6-437a-a2f7-c035bb7e1bd7",
        "colab": {
          "base_uri": "https://localhost:8080/",
          "height": 35
        }
      },
      "cell_type": "code",
      "source": [
        "small_df.index"
      ],
      "execution_count": 6,
      "outputs": [
        {
          "output_type": "execute_result",
          "data": {
            "text/plain": [
              "RangeIndex(start=3, stop=11, step=1)"
            ]
          },
          "metadata": {
            "tags": []
          },
          "execution_count": 6
        }
      ]
    },
    {
      "metadata": {
        "id": "lcuaGBegA5Ti",
        "colab_type": "text"
      },
      "cell_type": "markdown",
      "source": [
        "Indexing with '.loc' uses that index, also it includes the last element of the slice:"
      ]
    },
    {
      "metadata": {
        "id": "g6pu0DEBwRHd",
        "colab_type": "code",
        "outputId": "f01e465a-d8a5-4f63-e5e4-fa85b05b9567",
        "colab": {
          "base_uri": "https://localhost:8080/",
          "height": 147
        }
      },
      "cell_type": "code",
      "source": [
        "small_df.loc[4:5]"
      ],
      "execution_count": 7,
      "outputs": [
        {
          "output_type": "execute_result",
          "data": {
            "text/html": [
              "<div>\n",
              "<style scoped>\n",
              "    .dataframe tbody tr th:only-of-type {\n",
              "        vertical-align: middle;\n",
              "    }\n",
              "\n",
              "    .dataframe tbody tr th {\n",
              "        vertical-align: top;\n",
              "    }\n",
              "\n",
              "    .dataframe thead th {\n",
              "        text-align: right;\n",
              "    }\n",
              "</style>\n",
              "<table border=\"1\" class=\"dataframe\">\n",
              "  <thead>\n",
              "    <tr style=\"text-align: right;\">\n",
              "      <th></th>\n",
              "      <th>Year</th>\n",
              "      <th>Month</th>\n",
              "      <th>Day</th>\n",
              "      <th>Hour</th>\n",
              "      <th>Minute</th>\n",
              "      <th>Temperature  [2 m above gnd]</th>\n",
              "      <th>Total Precipitation (high resolution)  [sfc]</th>\n",
              "      <th>Wind Speed  [10 m above gnd]</th>\n",
              "      <th>Wind Direction  [10 m above gnd]</th>\n",
              "    </tr>\n",
              "  </thead>\n",
              "  <tbody>\n",
              "    <tr>\n",
              "      <th>4</th>\n",
              "      <td>2018</td>\n",
              "      <td>10</td>\n",
              "      <td>31</td>\n",
              "      <td>4</td>\n",
              "      <td>0</td>\n",
              "      <td>-1.02</td>\n",
              "      <td>0.0</td>\n",
              "      <td>22.67</td>\n",
              "      <td>110.45</td>\n",
              "    </tr>\n",
              "    <tr>\n",
              "      <th>5</th>\n",
              "      <td>2018</td>\n",
              "      <td>10</td>\n",
              "      <td>31</td>\n",
              "      <td>5</td>\n",
              "      <td>0</td>\n",
              "      <td>-1.16</td>\n",
              "      <td>0.0</td>\n",
              "      <td>22.60</td>\n",
              "      <td>112.48</td>\n",
              "    </tr>\n",
              "  </tbody>\n",
              "</table>\n",
              "</div>"
            ],
            "text/plain": [
              "   Year  Month  Day  Hour  Minute  Temperature  [2 m above gnd]  \\\n",
              "4  2018     10   31     4       0                         -1.02   \n",
              "5  2018     10   31     5       0                         -1.16   \n",
              "\n",
              "   Total Precipitation (high resolution)  [sfc]  Wind Speed  [10 m above gnd]  \\\n",
              "4                                           0.0                         22.67   \n",
              "5                                           0.0                         22.60   \n",
              "\n",
              "   Wind Direction  [10 m above gnd]  \n",
              "4                            110.45  \n",
              "5                            112.48  "
            ]
          },
          "metadata": {
            "tags": []
          },
          "execution_count": 7
        }
      ]
    },
    {
      "metadata": {
        "id": "cx3DzyZZBcrt",
        "colab_type": "text"
      },
      "cell_type": "markdown",
      "source": [
        "While using just [4:5] selects the row, which is 4'th from the beginning\n",
        "of current `DataFrame` (it's index is 7), and it excludes the last element\n",
        "of the slice:"
      ]
    },
    {
      "metadata": {
        "id": "swU-tTy4wQ-0",
        "colab_type": "code",
        "outputId": "d5b10073-0f00-4e36-f3ba-f932bfc945ee",
        "colab": {
          "base_uri": "https://localhost:8080/",
          "height": 115
        }
      },
      "cell_type": "code",
      "source": [
        "small_df[4:5]"
      ],
      "execution_count": 8,
      "outputs": [
        {
          "output_type": "execute_result",
          "data": {
            "text/html": [
              "<div>\n",
              "<style scoped>\n",
              "    .dataframe tbody tr th:only-of-type {\n",
              "        vertical-align: middle;\n",
              "    }\n",
              "\n",
              "    .dataframe tbody tr th {\n",
              "        vertical-align: top;\n",
              "    }\n",
              "\n",
              "    .dataframe thead th {\n",
              "        text-align: right;\n",
              "    }\n",
              "</style>\n",
              "<table border=\"1\" class=\"dataframe\">\n",
              "  <thead>\n",
              "    <tr style=\"text-align: right;\">\n",
              "      <th></th>\n",
              "      <th>Year</th>\n",
              "      <th>Month</th>\n",
              "      <th>Day</th>\n",
              "      <th>Hour</th>\n",
              "      <th>Minute</th>\n",
              "      <th>Temperature  [2 m above gnd]</th>\n",
              "      <th>Total Precipitation (high resolution)  [sfc]</th>\n",
              "      <th>Wind Speed  [10 m above gnd]</th>\n",
              "      <th>Wind Direction  [10 m above gnd]</th>\n",
              "    </tr>\n",
              "  </thead>\n",
              "  <tbody>\n",
              "    <tr>\n",
              "      <th>7</th>\n",
              "      <td>2018</td>\n",
              "      <td>10</td>\n",
              "      <td>31</td>\n",
              "      <td>7</td>\n",
              "      <td>0</td>\n",
              "      <td>-1.53</td>\n",
              "      <td>0.0</td>\n",
              "      <td>23.19</td>\n",
              "      <td>117.76</td>\n",
              "    </tr>\n",
              "  </tbody>\n",
              "</table>\n",
              "</div>"
            ],
            "text/plain": [
              "   Year  Month  Day  Hour  Minute  Temperature  [2 m above gnd]  \\\n",
              "7  2018     10   31     7       0                         -1.53   \n",
              "\n",
              "   Total Precipitation (high resolution)  [sfc]  Wind Speed  [10 m above gnd]  \\\n",
              "7                                           0.0                         23.19   \n",
              "\n",
              "   Wind Direction  [10 m above gnd]  \n",
              "7                            117.76  "
            ]
          },
          "metadata": {
            "tags": []
          },
          "execution_count": 8
        }
      ]
    },
    {
      "metadata": {
        "id": "-2wMr3-lLtgY",
        "colab_type": "text"
      },
      "cell_type": "markdown",
      "source": [
        "You can list the column names:"
      ]
    },
    {
      "metadata": {
        "id": "IZn6nmQwwQzS",
        "colab_type": "code",
        "outputId": "9d22b3ef-cd54-479f-ba9c-2c0b92001510",
        "colab": {
          "base_uri": "https://localhost:8080/",
          "height": 109
        }
      },
      "cell_type": "code",
      "source": [
        "small_df.columns"
      ],
      "execution_count": 9,
      "outputs": [
        {
          "output_type": "execute_result",
          "data": {
            "text/plain": [
              "Index(['Year', 'Month', 'Day', 'Hour', 'Minute',\n",
              "       'Temperature  [2 m above gnd]',\n",
              "       'Total Precipitation (high resolution)  [sfc]',\n",
              "       'Wind Speed  [10 m above gnd]', 'Wind Direction  [10 m above gnd]'],\n",
              "      dtype='object')"
            ]
          },
          "metadata": {
            "tags": []
          },
          "execution_count": 9
        }
      ]
    },
    {
      "metadata": {
        "id": "eVMBum-tCDRm",
        "colab_type": "text"
      },
      "cell_type": "markdown",
      "source": [
        "And easily select them:"
      ]
    },
    {
      "metadata": {
        "id": "v3cqgU-73PaV",
        "colab_type": "code",
        "outputId": "af7beb4e-d7d7-492d-9eab-f0eed710a5cf",
        "colab": {
          "base_uri": "https://localhost:8080/",
          "height": 182
        }
      },
      "cell_type": "code",
      "source": [
        "small_df['Temperature  [2 m above gnd]']"
      ],
      "execution_count": 10,
      "outputs": [
        {
          "output_type": "execute_result",
          "data": {
            "text/plain": [
              "3    -0.88\n",
              "4    -1.02\n",
              "5    -1.16\n",
              "6    -1.35\n",
              "7    -1.53\n",
              "8    -1.67\n",
              "9    -1.12\n",
              "10    0.11\n",
              "Name: Temperature  [2 m above gnd], dtype: float64"
            ]
          },
          "metadata": {
            "tags": []
          },
          "execution_count": 10
        }
      ]
    },
    {
      "metadata": {
        "id": "Y3HB6M3MCI2-",
        "colab_type": "text"
      },
      "cell_type": "markdown",
      "source": [
        "Or select a group of columns (note the nested [] brackets):"
      ]
    },
    {
      "metadata": {
        "id": "AnCZEQNF7dfL",
        "colab_type": "code",
        "outputId": "741fca28-8b53-44e9-8657-b976dd48724b",
        "colab": {
          "base_uri": "https://localhost:8080/",
          "height": 300
        }
      },
      "cell_type": "code",
      "source": [
        "small_df[['Hour', 'Temperature  [2 m above gnd]']]"
      ],
      "execution_count": 11,
      "outputs": [
        {
          "output_type": "execute_result",
          "data": {
            "text/html": [
              "<div>\n",
              "<style scoped>\n",
              "    .dataframe tbody tr th:only-of-type {\n",
              "        vertical-align: middle;\n",
              "    }\n",
              "\n",
              "    .dataframe tbody tr th {\n",
              "        vertical-align: top;\n",
              "    }\n",
              "\n",
              "    .dataframe thead th {\n",
              "        text-align: right;\n",
              "    }\n",
              "</style>\n",
              "<table border=\"1\" class=\"dataframe\">\n",
              "  <thead>\n",
              "    <tr style=\"text-align: right;\">\n",
              "      <th></th>\n",
              "      <th>Hour</th>\n",
              "      <th>Temperature  [2 m above gnd]</th>\n",
              "    </tr>\n",
              "  </thead>\n",
              "  <tbody>\n",
              "    <tr>\n",
              "      <th>3</th>\n",
              "      <td>3</td>\n",
              "      <td>-0.88</td>\n",
              "    </tr>\n",
              "    <tr>\n",
              "      <th>4</th>\n",
              "      <td>4</td>\n",
              "      <td>-1.02</td>\n",
              "    </tr>\n",
              "    <tr>\n",
              "      <th>5</th>\n",
              "      <td>5</td>\n",
              "      <td>-1.16</td>\n",
              "    </tr>\n",
              "    <tr>\n",
              "      <th>6</th>\n",
              "      <td>6</td>\n",
              "      <td>-1.35</td>\n",
              "    </tr>\n",
              "    <tr>\n",
              "      <th>7</th>\n",
              "      <td>7</td>\n",
              "      <td>-1.53</td>\n",
              "    </tr>\n",
              "    <tr>\n",
              "      <th>8</th>\n",
              "      <td>8</td>\n",
              "      <td>-1.67</td>\n",
              "    </tr>\n",
              "    <tr>\n",
              "      <th>9</th>\n",
              "      <td>9</td>\n",
              "      <td>-1.12</td>\n",
              "    </tr>\n",
              "    <tr>\n",
              "      <th>10</th>\n",
              "      <td>10</td>\n",
              "      <td>0.11</td>\n",
              "    </tr>\n",
              "  </tbody>\n",
              "</table>\n",
              "</div>"
            ],
            "text/plain": [
              "    Hour  Temperature  [2 m above gnd]\n",
              "3      3                         -0.88\n",
              "4      4                         -1.02\n",
              "5      5                         -1.16\n",
              "6      6                         -1.35\n",
              "7      7                         -1.53\n",
              "8      8                         -1.67\n",
              "9      9                         -1.12\n",
              "10    10                          0.11"
            ]
          },
          "metadata": {
            "tags": []
          },
          "execution_count": 11
        }
      ]
    },
    {
      "metadata": {
        "id": "cXdXMl9BISKa",
        "colab_type": "text"
      },
      "cell_type": "markdown",
      "source": [
        "**Exercise**. Try to select days with some rain. And the same excluding weekends?"
      ]
    },
    {
      "metadata": {
        "id": "vNWTYMxyIlpq",
        "colab_type": "code",
        "colab": {}
      },
      "cell_type": "code",
      "source": [
        ""
      ],
      "execution_count": 0,
      "outputs": []
    },
    {
      "metadata": {
        "id": "6Rs-xIlGCSp5",
        "colab_type": "text"
      },
      "cell_type": "markdown",
      "source": [
        "You can even add new columns:"
      ]
    },
    {
      "metadata": {
        "id": "jCbbh7mg3PJH",
        "colab_type": "code",
        "outputId": "5f34a7a3-0ed7-477c-9035-98462f4d447a",
        "colab": {
          "base_uri": "https://localhost:8080/",
          "height": 182
        }
      },
      "cell_type": "code",
      "source": [
        "small_df['T_squared'] = small_df['Temperature  [2 m above gnd]']**2\n",
        "small_df['T_squared']"
      ],
      "execution_count": 34,
      "outputs": [
        {
          "output_type": "execute_result",
          "data": {
            "text/plain": [
              "3     0.7744\n",
              "4     1.0404\n",
              "5     1.3456\n",
              "6     1.8225\n",
              "7     2.3409\n",
              "8     2.7889\n",
              "9     1.2544\n",
              "10    0.0121\n",
              "Name: T_squared, dtype: float64"
            ]
          },
          "metadata": {
            "tags": []
          },
          "execution_count": 34
        }
      ]
    },
    {
      "metadata": {
        "id": "Ko0wXB3VG2Lv",
        "colab_type": "text"
      },
      "cell_type": "markdown",
      "source": [
        "**Exercise**. Figure out some interesting new column. Can it be physically-motivated?"
      ]
    },
    {
      "metadata": {
        "id": "5mIItV5UHl8W",
        "colab_type": "code",
        "colab": {
          "base_uri": "https://localhost:8080/",
          "height": 182
        },
        "outputId": "7d83c62d-2184-4eb0-deb8-d1aafe71c875"
      },
      "cell_type": "code",
      "source": [
        ""
      ],
      "execution_count": 39,
      "outputs": [
        {
          "output_type": "execute_result",
          "data": {
            "text/plain": [
              "3     19.12\n",
              "4     18.98\n",
              "5     18.84\n",
              "6     18.65\n",
              "7     18.47\n",
              "8     18.33\n",
              "9     18.88\n",
              "10    20.11\n",
              "Name: T_squared2, dtype: float64"
            ]
          },
          "metadata": {
            "tags": []
          },
          "execution_count": 39
        }
      ]
    },
    {
      "metadata": {
        "id": "GLXZU4yPCZIw",
        "colab_type": "text"
      },
      "cell_type": "markdown",
      "source": [
        "You can select rows with boolean indices:"
      ]
    },
    {
      "metadata": {
        "id": "0gnZ4IKW3PGt",
        "colab_type": "code",
        "outputId": "27c6ae16-ecf6-472a-f4ad-8aec7773ceef",
        "colab": {
          "base_uri": "https://localhost:8080/",
          "height": 150
        }
      },
      "cell_type": "code",
      "source": [
        "small_df[[False, True, False, False, False, False, False, False]]"
      ],
      "execution_count": 40,
      "outputs": [
        {
          "output_type": "execute_result",
          "data": {
            "text/html": [
              "<div>\n",
              "<style scoped>\n",
              "    .dataframe tbody tr th:only-of-type {\n",
              "        vertical-align: middle;\n",
              "    }\n",
              "\n",
              "    .dataframe tbody tr th {\n",
              "        vertical-align: top;\n",
              "    }\n",
              "\n",
              "    .dataframe thead th {\n",
              "        text-align: right;\n",
              "    }\n",
              "</style>\n",
              "<table border=\"1\" class=\"dataframe\">\n",
              "  <thead>\n",
              "    <tr style=\"text-align: right;\">\n",
              "      <th></th>\n",
              "      <th>Year</th>\n",
              "      <th>Month</th>\n",
              "      <th>Day</th>\n",
              "      <th>Hour</th>\n",
              "      <th>Minute</th>\n",
              "      <th>Temperature  [2 m above gnd]</th>\n",
              "      <th>Total Precipitation (high resolution)  [sfc]</th>\n",
              "      <th>Wind Speed  [10 m above gnd]</th>\n",
              "      <th>Wind Direction  [10 m above gnd]</th>\n",
              "      <th>T_squared</th>\n",
              "      <th>T_squared2</th>\n",
              "    </tr>\n",
              "  </thead>\n",
              "  <tbody>\n",
              "    <tr>\n",
              "      <th>4</th>\n",
              "      <td>2018</td>\n",
              "      <td>10</td>\n",
              "      <td>31</td>\n",
              "      <td>4</td>\n",
              "      <td>0</td>\n",
              "      <td>-1.02</td>\n",
              "      <td>0.0</td>\n",
              "      <td>22.67</td>\n",
              "      <td>110.45</td>\n",
              "      <td>1.0404</td>\n",
              "      <td>18.98</td>\n",
              "    </tr>\n",
              "  </tbody>\n",
              "</table>\n",
              "</div>"
            ],
            "text/plain": [
              "   Year  Month  Day  Hour  Minute  Temperature  [2 m above gnd]  \\\n",
              "4  2018     10   31     4       0                         -1.02   \n",
              "\n",
              "   Total Precipitation (high resolution)  [sfc]  Wind Speed  [10 m above gnd]  \\\n",
              "4                                           0.0                         22.67   \n",
              "\n",
              "   Wind Direction  [10 m above gnd]  T_squared  T_squared2  \n",
              "4                            110.45     1.0404       18.98  "
            ]
          },
          "metadata": {
            "tags": []
          },
          "execution_count": 40
        }
      ]
    },
    {
      "metadata": {
        "id": "3ddGyaQ5CeF7",
        "colab_type": "text"
      },
      "cell_type": "markdown",
      "source": [
        "Obviously, spelling out this list of True and False values is not very practical.\n",
        "However one can get such list from some selection, e.g.:"
      ]
    },
    {
      "metadata": {
        "id": "PJOavitd3PBd",
        "colab_type": "code",
        "outputId": "250dd1d3-78b7-4430-cee7-7b70925e1515",
        "colab": {
          "base_uri": "https://localhost:8080/",
          "height": 182
        }
      },
      "cell_type": "code",
      "source": [
        "small_df['T_squared'] > 2.0"
      ],
      "execution_count": 41,
      "outputs": [
        {
          "output_type": "execute_result",
          "data": {
            "text/plain": [
              "3     False\n",
              "4     False\n",
              "5     False\n",
              "6     False\n",
              "7      True\n",
              "8      True\n",
              "9     False\n",
              "10    False\n",
              "Name: T_squared, dtype: bool"
            ]
          },
          "metadata": {
            "tags": []
          },
          "execution_count": 41
        }
      ]
    },
    {
      "metadata": {
        "id": "_GP0lWZOCkbX",
        "colab_type": "text"
      },
      "cell_type": "markdown",
      "source": [
        "And hence the selection can be done like this:"
      ]
    },
    {
      "metadata": {
        "id": "Ktjk2QDC3O5Q",
        "colab_type": "code",
        "outputId": "8341adc6-660a-4ca4-9b7e-8a6656aa81b9",
        "colab": {
          "base_uri": "https://localhost:8080/",
          "height": 147
        }
      },
      "cell_type": "code",
      "source": [
        "small_df[small_df['T_squared'] > 2.0]"
      ],
      "execution_count": 37,
      "outputs": [
        {
          "output_type": "execute_result",
          "data": {
            "text/html": [
              "<div>\n",
              "<style scoped>\n",
              "    .dataframe tbody tr th:only-of-type {\n",
              "        vertical-align: middle;\n",
              "    }\n",
              "\n",
              "    .dataframe tbody tr th {\n",
              "        vertical-align: top;\n",
              "    }\n",
              "\n",
              "    .dataframe thead th {\n",
              "        text-align: right;\n",
              "    }\n",
              "</style>\n",
              "<table border=\"1\" class=\"dataframe\">\n",
              "  <thead>\n",
              "    <tr style=\"text-align: right;\">\n",
              "      <th></th>\n",
              "      <th>Year</th>\n",
              "      <th>Month</th>\n",
              "      <th>Day</th>\n",
              "      <th>Hour</th>\n",
              "      <th>Minute</th>\n",
              "      <th>Temperature  [2 m above gnd]</th>\n",
              "      <th>Total Precipitation (high resolution)  [sfc]</th>\n",
              "      <th>Wind Speed  [10 m above gnd]</th>\n",
              "      <th>Wind Direction  [10 m above gnd]</th>\n",
              "      <th>T_squared</th>\n",
              "    </tr>\n",
              "  </thead>\n",
              "  <tbody>\n",
              "    <tr>\n",
              "      <th>7</th>\n",
              "      <td>2018</td>\n",
              "      <td>10</td>\n",
              "      <td>31</td>\n",
              "      <td>7</td>\n",
              "      <td>0</td>\n",
              "      <td>-1.53</td>\n",
              "      <td>0.0</td>\n",
              "      <td>23.19</td>\n",
              "      <td>117.76</td>\n",
              "      <td>2.3409</td>\n",
              "    </tr>\n",
              "    <tr>\n",
              "      <th>8</th>\n",
              "      <td>2018</td>\n",
              "      <td>10</td>\n",
              "      <td>31</td>\n",
              "      <td>8</td>\n",
              "      <td>0</td>\n",
              "      <td>-1.67</td>\n",
              "      <td>0.0</td>\n",
              "      <td>23.09</td>\n",
              "      <td>120.96</td>\n",
              "      <td>2.7889</td>\n",
              "    </tr>\n",
              "  </tbody>\n",
              "</table>\n",
              "</div>"
            ],
            "text/plain": [
              "   Year  Month  Day  Hour  Minute  Temperature  [2 m above gnd]  \\\n",
              "7  2018     10   31     7       0                         -1.53   \n",
              "8  2018     10   31     8       0                         -1.67   \n",
              "\n",
              "   Total Precipitation (high resolution)  [sfc]  Wind Speed  [10 m above gnd]  \\\n",
              "7                                           0.0                         23.19   \n",
              "8                                           0.0                         23.09   \n",
              "\n",
              "   Wind Direction  [10 m above gnd]  T_squared  \n",
              "7                            117.76     2.3409  \n",
              "8                            120.96     2.7889  "
            ]
          },
          "metadata": {
            "tags": []
          },
          "execution_count": 37
        }
      ]
    },
    {
      "metadata": {
        "id": "osvccbgL5LwR",
        "colab_type": "text"
      },
      "cell_type": "markdown",
      "source": [
        "# Common file formats in HEP"
      ]
    },
    {
      "metadata": {
        "id": "2V-BXtZecGVa",
        "colab_type": "text"
      },
      "cell_type": "markdown",
      "source": [
        "\n",
        "## ROOT\n",
        "\n",
        "ROOT as file format of the [same name software toolkit](https://root.cern.ch/) is unavoidable in experimental particle physics.\n",
        "ROOT is de facto standard tool designed by CERN for particle physics data processing, statistical analysis, visualisation and storage. ROOT is alrealdy built into hundreds other projects in HEP.\n",
        "\n",
        "Advantages:\n",
        "* Really easy to make histograms\n",
        "* `TTree::Draw()`\n",
        "* Ability to process files >~1 TB without issue\n",
        "\n",
        "Disadvantages:\n",
        "* ~ 3 million lines of C++ code\n",
        "* 100% non-transferable skill\n",
        "* Small user community\n",
        "\n",
        "A ROOT file is like a file directory. It can contain directories and objects organized in unlimited number of levels.\n",
        "ROOT file can represent **different data structures**!\n",
        "Structured tree and n-tuple (an ordered list of n elements) are most frequent.\n",
        "\n",
        "Possible ways to use ROOT from Python:\n",
        "* ~~[pyROOT](https://root.cern.ch/pyroot)~~ (requires ROOT)\n",
        "* ~~[rootpy](http://www.rootpy.org/)~~ (requires ROOT and pyROOT)\n",
        "* ~~[root_numpy](http://scikit-hep.org/root_numpy)~~ (requires ROOT and NumPy)\n",
        "* [uproot](https://github.com/scikit-hep/uproot)(requres just NumPy) — **it's our workaround!**\n",
        "\n",
        "Let's install uproot, and download two example ROOT files:"
      ]
    },
    {
      "metadata": {
        "id": "PPNnpr3nnnTw",
        "colab_type": "code",
        "outputId": "a934578b-253a-4b4e-d874-ad52c0bd8072",
        "colab": {
          "base_uri": "https://localhost:8080/",
          "height": 551
        }
      },
      "cell_type": "code",
      "source": [
        "!pip install uproot\n",
        "import uproot\n",
        "!wget http://scikit-hep.org/uproot/examples/Zmumu.root\n",
        "!wget http://scikit-hep.org/uproot/examples/HZZ.root"
      ],
      "execution_count": 16,
      "outputs": [
        {
          "output_type": "stream",
          "text": [
            "Requirement already satisfied: uproot in /usr/local/lib/python3.6/dist-packages (3.2.11)\n",
            "Requirement already satisfied: numpy>=1.13.1 in /usr/local/lib/python3.6/dist-packages (from uproot) (1.14.6)\n",
            "Requirement already satisfied: cachetools in /usr/local/lib/python3.6/dist-packages (from uproot) (3.0.0)\n",
            "Requirement already satisfied: lz4 in /usr/local/lib/python3.6/dist-packages (from uproot) (2.1.2)\n",
            "Requirement already satisfied: awkward in /usr/local/lib/python3.6/dist-packages (from uproot) (0.4.3)\n",
            "Requirement already satisfied: uproot-methods>=0.2.0 in /usr/local/lib/python3.6/dist-packages (from uproot) (0.2.7)\n",
            "--2018-11-14 11:42:58--  http://scikit-hep.org/uproot/examples/Zmumu.root\n",
            "Resolving scikit-hep.org (scikit-hep.org)... 192.30.252.153\n",
            "Connecting to scikit-hep.org (scikit-hep.org)|192.30.252.153|:80... connected.\n",
            "HTTP request sent, awaiting response... 200 OK\n",
            "Length: 178971 (175K) [application/octet-stream]\n",
            "Saving to: ‘Zmumu.root.1’\n",
            "\n",
            "Zmumu.root.1        100%[===================>] 174.78K   698KB/s    in 0.3s    \n",
            "\n",
            "2018-11-14 11:42:58 (698 KB/s) - ‘Zmumu.root.1’ saved [178971/178971]\n",
            "\n",
            "--2018-11-14 11:43:01--  http://scikit-hep.org/uproot/examples/HZZ.root\n",
            "Resolving scikit-hep.org (scikit-hep.org)... 192.30.252.153\n",
            "Connecting to scikit-hep.org (scikit-hep.org)|192.30.252.153|:80... connected.\n",
            "HTTP request sent, awaiting response... 200 OK\n",
            "Length: 217945 (213K) [application/octet-stream]\n",
            "Saving to: ‘HZZ.root.1’\n",
            "\n",
            "HZZ.root.1          100%[===================>] 212.84K   845KB/s    in 0.3s    \n",
            "\n",
            "2018-11-14 11:43:01 (845 KB/s) - ‘HZZ.root.1’ saved [217945/217945]\n",
            "\n"
          ],
          "name": "stdout"
        }
      ]
    },
    {
      "metadata": {
        "id": "xqQSKpwo4U2B",
        "colab_type": "text"
      },
      "cell_type": "markdown",
      "source": [
        "*Zmumu.root* is an example of flat n-tuple of $Z \\rightarrow \\mu\\mu$ events.\n",
        "\n",
        "uproot presents such data structure as  [dict-like objects](https://colab.research.google.com/github/yandexdataschool/MLatMISiS2018/blob/master/01_lab/00-Introduction_to_Python.ipynb#scrollTo=L6xLtIk7a9My) with ROOT names and objects as keys and values."
      ]
    },
    {
      "metadata": {
        "id": "9mJpz9hW46n0",
        "colab_type": "code",
        "colab": {}
      },
      "cell_type": "code",
      "source": [
        "zmumu = uproot.open(\"Zmumu.root\")[\"events\"]"
      ],
      "execution_count": 0,
      "outputs": []
    },
    {
      "metadata": {
        "id": "l3t42KS1zG9c",
        "colab_type": "text"
      },
      "cell_type": "markdown",
      "source": [
        "Since the file acts as a dictionaries, we accessed them with square brackets.\n"
      ]
    },
    {
      "metadata": {
        "id": "95L5waekyY6V",
        "colab_type": "text"
      },
      "cell_type": "markdown",
      "source": [
        "*HZZ.root* is structured TTree of $H \\rightarrow ZZ \\rightarrow ee\\mu\\mu$ events. TTrees are also dict-like objects, with branch names and branches as keys and values."
      ]
    },
    {
      "metadata": {
        "id": "HXgazI0uoWat",
        "colab_type": "code",
        "colab": {}
      },
      "cell_type": "code",
      "source": [
        "hzz = uproot.open(\"HZZ.root\")[\"events\"]"
      ],
      "execution_count": 0,
      "outputs": []
    },
    {
      "metadata": {
        "id": "rbxvBf7T0O2R",
        "colab_type": "text"
      },
      "cell_type": "markdown",
      "source": [
        "You easily can inspect zmumu file:\n",
        "\n",
        "(Hint: allkeys() lists branches recursively, if they're nested.)"
      ]
    },
    {
      "metadata": {
        "id": "LwQy8aV97ID8",
        "colab_type": "code",
        "outputId": "fdf6f8ad-2c9d-4181-fe8f-c2da7734e544",
        "colab": {
          "base_uri": "https://localhost:8080/",
          "height": 384
        }
      },
      "cell_type": "code",
      "source": [
        "zmumu.keys()"
      ],
      "execution_count": 19,
      "outputs": [
        {
          "output_type": "execute_result",
          "data": {
            "text/plain": [
              "[b'Type',\n",
              " b'Run',\n",
              " b'Event',\n",
              " b'E1',\n",
              " b'px1',\n",
              " b'py1',\n",
              " b'pz1',\n",
              " b'pt1',\n",
              " b'eta1',\n",
              " b'phi1',\n",
              " b'Q1',\n",
              " b'E2',\n",
              " b'px2',\n",
              " b'py2',\n",
              " b'pz2',\n",
              " b'pt2',\n",
              " b'eta2',\n",
              " b'phi2',\n",
              " b'Q2',\n",
              " b'M']"
            ]
          },
          "metadata": {
            "tags": []
          },
          "execution_count": 19
        }
      ]
    },
    {
      "metadata": {
        "id": "4txsDv_S7RqV",
        "colab_type": "text"
      },
      "cell_type": "markdown",
      "source": [
        "And hzz:"
      ]
    },
    {
      "metadata": {
        "id": "fuXJ6O0xoeGo",
        "colab_type": "code",
        "outputId": "c76d5d8c-cf57-4c08-ad31-545d2f77ff68",
        "colab": {
          "base_uri": "https://localhost:8080/",
          "height": 954
        }
      },
      "cell_type": "code",
      "source": [
        "hzz.keys()"
      ],
      "execution_count": 20,
      "outputs": [
        {
          "output_type": "execute_result",
          "data": {
            "text/plain": [
              "[b'NJet',\n",
              " b'Jet_Px',\n",
              " b'Jet_Py',\n",
              " b'Jet_Pz',\n",
              " b'Jet_E',\n",
              " b'Jet_btag',\n",
              " b'Jet_ID',\n",
              " b'NMuon',\n",
              " b'Muon_Px',\n",
              " b'Muon_Py',\n",
              " b'Muon_Pz',\n",
              " b'Muon_E',\n",
              " b'Muon_Charge',\n",
              " b'Muon_Iso',\n",
              " b'NElectron',\n",
              " b'Electron_Px',\n",
              " b'Electron_Py',\n",
              " b'Electron_Pz',\n",
              " b'Electron_E',\n",
              " b'Electron_Charge',\n",
              " b'Electron_Iso',\n",
              " b'NPhoton',\n",
              " b'Photon_Px',\n",
              " b'Photon_Py',\n",
              " b'Photon_Pz',\n",
              " b'Photon_E',\n",
              " b'Photon_Iso',\n",
              " b'MET_px',\n",
              " b'MET_py',\n",
              " b'MChadronicBottom_px',\n",
              " b'MChadronicBottom_py',\n",
              " b'MChadronicBottom_pz',\n",
              " b'MCleptonicBottom_px',\n",
              " b'MCleptonicBottom_py',\n",
              " b'MCleptonicBottom_pz',\n",
              " b'MChadronicWDecayQuark_px',\n",
              " b'MChadronicWDecayQuark_py',\n",
              " b'MChadronicWDecayQuark_pz',\n",
              " b'MChadronicWDecayQuarkBar_px',\n",
              " b'MChadronicWDecayQuarkBar_py',\n",
              " b'MChadronicWDecayQuarkBar_pz',\n",
              " b'MClepton_px',\n",
              " b'MClepton_py',\n",
              " b'MClepton_pz',\n",
              " b'MCleptonPDGid',\n",
              " b'MCneutrino_px',\n",
              " b'MCneutrino_py',\n",
              " b'MCneutrino_pz',\n",
              " b'NPrimaryVertices',\n",
              " b'triggerIsoMu24',\n",
              " b'EventWeight']"
            ]
          },
          "metadata": {
            "tags": []
          },
          "execution_count": 20
        }
      ]
    },
    {
      "metadata": {
        "id": "Z4fn5vZG73Sp",
        "colab_type": "text"
      },
      "cell_type": "markdown",
      "source": [
        "You can turn a chosen set of branches into NumPy arrays with the `arrays` method. Each array represents the values of a single attribute for all events, just as they're stored in a split ROOT file."
      ]
    },
    {
      "metadata": {
        "id": "2fHEzUiw7-SZ",
        "colab_type": "code",
        "outputId": "693b2a25-28fa-41bb-e808-254bdfc30cfc",
        "colab": {
          "base_uri": "https://localhost:8080/",
          "height": 127
        }
      },
      "cell_type": "code",
      "source": [
        "zmumu.arrays([\"px1\", \"py1\", \"pz1\"])"
      ],
      "execution_count": 21,
      "outputs": [
        {
          "output_type": "execute_result",
          "data": {
            "text/plain": [
              "{b'px1': array([-41.19528764,  35.11804977,  35.11804977, ...,  32.37749196,\n",
              "         32.37749196,  32.48539387]),\n",
              " b'py1': array([ 17.4332439 , -16.57036233, -16.57036233, ...,   1.19940578,\n",
              "          1.19940578,   1.2013503 ]),\n",
              " b'pz1': array([-68.96496181, -48.77524654, -48.77524654, ..., -74.53243061,\n",
              "        -74.53243061, -74.80837247])}"
            ]
          },
          "metadata": {
            "tags": []
          },
          "execution_count": 21
        }
      ]
    },
    {
      "metadata": {
        "id": "P5L0-NA41iJt",
        "colab_type": "text"
      },
      "cell_type": "markdown",
      "source": [
        "If the number of items per entry is not constant, such as the number of jets in an event, they can't be expressed as flat NumPy arrays. Instead, uproot loads them into *jagged arrays*."
      ]
    },
    {
      "metadata": {
        "id": "A3yEhl2L0kv8",
        "colab_type": "code",
        "outputId": "a271cde7-e0e1-49ff-a6e3-9b3c7d30394f",
        "colab": {
          "base_uri": "https://localhost:8080/",
          "height": 35
        }
      },
      "cell_type": "code",
      "source": [
        "hzz.array(\"Jet_E\")"
      ],
      "execution_count": 22,
      "outputs": [
        {
          "output_type": "execute_result",
          "data": {
            "text/plain": [
              "<JaggedArray [[] [44.137363] [] ... [55.95058] [229.57799  33.92035] []] at 7f0b2d7cbda0>"
            ]
          },
          "metadata": {
            "tags": []
          },
          "execution_count": 22
        }
      ]
    },
    {
      "metadata": {
        "id": "9AZJazEr2H6E",
        "colab_type": "text"
      },
      "cell_type": "markdown",
      "source": [
        "A jagged array behaves like an array of unequal-length arrays:"
      ]
    },
    {
      "metadata": {
        "id": "teQJkD6L2JXA",
        "colab_type": "code",
        "outputId": "0927d5f0-711b-40b5-f286-0de102e65a05",
        "colab": {
          "base_uri": "https://localhost:8080/",
          "height": 72
        }
      },
      "cell_type": "code",
      "source": [
        "jaggedarray = hzz.array(\"Jet_E\")\n",
        "print(jaggedarray.content)\n",
        "print(jaggedarray.starts)\n",
        "print(jaggedarray.stops)"
      ],
      "execution_count": 23,
      "outputs": [
        {
          "output_type": "stream",
          "text": [
            "[ 44.137363 230.34601  101.35884  ...  55.95058  229.57799   33.92035 ]\n",
            "[   0    0    1 ... 2770 2771 2773]\n",
            "[   0    1    1 ... 2771 2773 2773]\n"
          ],
          "name": "stdout"
        }
      ]
    },
    {
      "metadata": {
        "id": "0R_aJGKv8VHg",
        "colab_type": "text"
      },
      "cell_type": "markdown",
      "source": [
        "uproot has connectors to other libraries.  For instance, to get a pandas DataFrame, call tree.pandas.df:"
      ]
    },
    {
      "metadata": {
        "id": "5GbJGIiP3uMt",
        "colab_type": "code",
        "colab": {
          "base_uri": "https://localhost:8080/",
          "height": 1992
        },
        "outputId": "7bf62d80-9ea1-4185-d0fe-92ba87a55ee1"
      },
      "cell_type": "code",
      "source": [
        "zmumu.pandas.df([\"pt1\", \"eta1\", \"phi1\", \"pt2\", \"eta2\", \"phi2\"])"
      ],
      "execution_count": 24,
      "outputs": [
        {
          "output_type": "execute_result",
          "data": {
            "text/html": [
              "<div>\n",
              "<style scoped>\n",
              "    .dataframe tbody tr th:only-of-type {\n",
              "        vertical-align: middle;\n",
              "    }\n",
              "\n",
              "    .dataframe tbody tr th {\n",
              "        vertical-align: top;\n",
              "    }\n",
              "\n",
              "    .dataframe thead th {\n",
              "        text-align: right;\n",
              "    }\n",
              "</style>\n",
              "<table border=\"1\" class=\"dataframe\">\n",
              "  <thead>\n",
              "    <tr style=\"text-align: right;\">\n",
              "      <th></th>\n",
              "      <th>pt1</th>\n",
              "      <th>eta1</th>\n",
              "      <th>phi1</th>\n",
              "      <th>pt2</th>\n",
              "      <th>eta2</th>\n",
              "      <th>phi2</th>\n",
              "    </tr>\n",
              "  </thead>\n",
              "  <tbody>\n",
              "    <tr>\n",
              "      <th>0</th>\n",
              "      <td>44.7322</td>\n",
              "      <td>-1.217690</td>\n",
              "      <td>2.741260</td>\n",
              "      <td>38.8311</td>\n",
              "      <td>-1.051390</td>\n",
              "      <td>-0.440873</td>\n",
              "    </tr>\n",
              "    <tr>\n",
              "      <th>1</th>\n",
              "      <td>38.8311</td>\n",
              "      <td>-1.051390</td>\n",
              "      <td>-0.440873</td>\n",
              "      <td>44.7322</td>\n",
              "      <td>-1.217690</td>\n",
              "      <td>2.741260</td>\n",
              "    </tr>\n",
              "    <tr>\n",
              "      <th>2</th>\n",
              "      <td>38.8311</td>\n",
              "      <td>-1.051390</td>\n",
              "      <td>-0.440873</td>\n",
              "      <td>44.7322</td>\n",
              "      <td>-1.217690</td>\n",
              "      <td>2.741260</td>\n",
              "    </tr>\n",
              "    <tr>\n",
              "      <th>3</th>\n",
              "      <td>38.8311</td>\n",
              "      <td>-1.051390</td>\n",
              "      <td>-0.440873</td>\n",
              "      <td>44.7322</td>\n",
              "      <td>-1.217690</td>\n",
              "      <td>2.741260</td>\n",
              "    </tr>\n",
              "    <tr>\n",
              "      <th>4</th>\n",
              "      <td>27.2981</td>\n",
              "      <td>-0.990688</td>\n",
              "      <td>0.583351</td>\n",
              "      <td>21.8913</td>\n",
              "      <td>1.444340</td>\n",
              "      <td>-2.707650</td>\n",
              "    </tr>\n",
              "    <tr>\n",
              "      <th>5</th>\n",
              "      <td>21.8913</td>\n",
              "      <td>1.444340</td>\n",
              "      <td>-2.707650</td>\n",
              "      <td>27.2981</td>\n",
              "      <td>-0.990688</td>\n",
              "      <td>0.583351</td>\n",
              "    </tr>\n",
              "    <tr>\n",
              "      <th>6</th>\n",
              "      <td>21.8913</td>\n",
              "      <td>1.444340</td>\n",
              "      <td>-2.707650</td>\n",
              "      <td>27.2981</td>\n",
              "      <td>-0.990688</td>\n",
              "      <td>0.583351</td>\n",
              "    </tr>\n",
              "    <tr>\n",
              "      <th>7</th>\n",
              "      <td>21.8913</td>\n",
              "      <td>1.444340</td>\n",
              "      <td>-2.707650</td>\n",
              "      <td>27.2981</td>\n",
              "      <td>-0.990688</td>\n",
              "      <td>0.583351</td>\n",
              "    </tr>\n",
              "    <tr>\n",
              "      <th>8</th>\n",
              "      <td>77.0336</td>\n",
              "      <td>-1.140270</td>\n",
              "      <td>0.393582</td>\n",
              "      <td>72.7634</td>\n",
              "      <td>-0.637934</td>\n",
              "      <td>-0.793162</td>\n",
              "    </tr>\n",
              "    <tr>\n",
              "      <th>9</th>\n",
              "      <td>72.7634</td>\n",
              "      <td>-0.637934</td>\n",
              "      <td>-0.793162</td>\n",
              "      <td>77.0336</td>\n",
              "      <td>-1.140270</td>\n",
              "      <td>0.393582</td>\n",
              "    </tr>\n",
              "    <tr>\n",
              "      <th>10</th>\n",
              "      <td>72.7634</td>\n",
              "      <td>-0.637934</td>\n",
              "      <td>-0.793162</td>\n",
              "      <td>77.0336</td>\n",
              "      <td>-1.140270</td>\n",
              "      <td>0.393582</td>\n",
              "    </tr>\n",
              "    <tr>\n",
              "      <th>11</th>\n",
              "      <td>72.7634</td>\n",
              "      <td>-0.637934</td>\n",
              "      <td>-0.793162</td>\n",
              "      <td>77.0336</td>\n",
              "      <td>-1.140270</td>\n",
              "      <td>0.393582</td>\n",
              "    </tr>\n",
              "    <tr>\n",
              "      <th>12</th>\n",
              "      <td>44.5173</td>\n",
              "      <td>0.426044</td>\n",
              "      <td>-0.070413</td>\n",
              "      <td>40.6637</td>\n",
              "      <td>-0.525298</td>\n",
              "      <td>2.873290</td>\n",
              "    </tr>\n",
              "    <tr>\n",
              "      <th>13</th>\n",
              "      <td>40.6637</td>\n",
              "      <td>-0.525298</td>\n",
              "      <td>2.873290</td>\n",
              "      <td>44.5173</td>\n",
              "      <td>0.426044</td>\n",
              "      <td>-0.070413</td>\n",
              "    </tr>\n",
              "    <tr>\n",
              "      <th>14</th>\n",
              "      <td>40.6637</td>\n",
              "      <td>-0.525298</td>\n",
              "      <td>2.873290</td>\n",
              "      <td>44.5173</td>\n",
              "      <td>0.426044</td>\n",
              "      <td>-0.070413</td>\n",
              "    </tr>\n",
              "    <tr>\n",
              "      <th>15</th>\n",
              "      <td>40.6637</td>\n",
              "      <td>-0.525298</td>\n",
              "      <td>2.873290</td>\n",
              "      <td>44.5173</td>\n",
              "      <td>0.426044</td>\n",
              "      <td>-0.070413</td>\n",
              "    </tr>\n",
              "    <tr>\n",
              "      <th>16</th>\n",
              "      <td>27.4237</td>\n",
              "      <td>-1.368470</td>\n",
              "      <td>0.112680</td>\n",
              "      <td>42.3231</td>\n",
              "      <td>-1.264190</td>\n",
              "      <td>-3.021950</td>\n",
              "    </tr>\n",
              "    <tr>\n",
              "      <th>17</th>\n",
              "      <td>42.3231</td>\n",
              "      <td>-1.264190</td>\n",
              "      <td>-3.021950</td>\n",
              "      <td>27.4237</td>\n",
              "      <td>-1.368470</td>\n",
              "      <td>0.112680</td>\n",
              "    </tr>\n",
              "    <tr>\n",
              "      <th>18</th>\n",
              "      <td>42.3231</td>\n",
              "      <td>-1.264190</td>\n",
              "      <td>-3.021950</td>\n",
              "      <td>27.4237</td>\n",
              "      <td>-1.368470</td>\n",
              "      <td>0.112680</td>\n",
              "    </tr>\n",
              "    <tr>\n",
              "      <th>19</th>\n",
              "      <td>42.3231</td>\n",
              "      <td>-1.264190</td>\n",
              "      <td>-3.021950</td>\n",
              "      <td>27.4237</td>\n",
              "      <td>-1.368470</td>\n",
              "      <td>0.112680</td>\n",
              "    </tr>\n",
              "    <tr>\n",
              "      <th>20</th>\n",
              "      <td>35.9165</td>\n",
              "      <td>1.432090</td>\n",
              "      <td>-2.431830</td>\n",
              "      <td>44.8701</td>\n",
              "      <td>0.496169</td>\n",
              "      <td>0.721981</td>\n",
              "    </tr>\n",
              "    <tr>\n",
              "      <th>21</th>\n",
              "      <td>44.8701</td>\n",
              "      <td>0.496169</td>\n",
              "      <td>0.721981</td>\n",
              "      <td>35.9165</td>\n",
              "      <td>1.432090</td>\n",
              "      <td>-2.431830</td>\n",
              "    </tr>\n",
              "    <tr>\n",
              "      <th>22</th>\n",
              "      <td>44.8701</td>\n",
              "      <td>0.496169</td>\n",
              "      <td>0.721981</td>\n",
              "      <td>35.9165</td>\n",
              "      <td>1.432090</td>\n",
              "      <td>-2.431830</td>\n",
              "    </tr>\n",
              "    <tr>\n",
              "      <th>23</th>\n",
              "      <td>44.8701</td>\n",
              "      <td>0.496169</td>\n",
              "      <td>0.721981</td>\n",
              "      <td>35.9165</td>\n",
              "      <td>1.432090</td>\n",
              "      <td>-2.431830</td>\n",
              "    </tr>\n",
              "    <tr>\n",
              "      <th>24</th>\n",
              "      <td>36.2136</td>\n",
              "      <td>-0.532520</td>\n",
              "      <td>-1.652390</td>\n",
              "      <td>40.4100</td>\n",
              "      <td>0.836524</td>\n",
              "      <td>1.471740</td>\n",
              "    </tr>\n",
              "    <tr>\n",
              "      <th>25</th>\n",
              "      <td>40.4100</td>\n",
              "      <td>0.836524</td>\n",
              "      <td>1.471740</td>\n",
              "      <td>36.2136</td>\n",
              "      <td>-0.532520</td>\n",
              "      <td>-1.652390</td>\n",
              "    </tr>\n",
              "    <tr>\n",
              "      <th>26</th>\n",
              "      <td>40.4100</td>\n",
              "      <td>0.836524</td>\n",
              "      <td>1.471740</td>\n",
              "      <td>36.2136</td>\n",
              "      <td>-0.532520</td>\n",
              "      <td>-1.652390</td>\n",
              "    </tr>\n",
              "    <tr>\n",
              "      <th>27</th>\n",
              "      <td>40.4100</td>\n",
              "      <td>0.836524</td>\n",
              "      <td>1.471740</td>\n",
              "      <td>36.2136</td>\n",
              "      <td>-0.532520</td>\n",
              "      <td>-1.652390</td>\n",
              "    </tr>\n",
              "    <tr>\n",
              "      <th>28</th>\n",
              "      <td>45.5010</td>\n",
              "      <td>-1.558430</td>\n",
              "      <td>-1.624000</td>\n",
              "      <td>30.6742</td>\n",
              "      <td>-0.220038</td>\n",
              "      <td>1.764730</td>\n",
              "    </tr>\n",
              "    <tr>\n",
              "      <th>29</th>\n",
              "      <td>30.6742</td>\n",
              "      <td>-0.220038</td>\n",
              "      <td>1.764730</td>\n",
              "      <td>45.5010</td>\n",
              "      <td>-1.558430</td>\n",
              "      <td>-1.624000</td>\n",
              "    </tr>\n",
              "    <tr>\n",
              "      <th>...</th>\n",
              "      <td>...</td>\n",
              "      <td>...</td>\n",
              "      <td>...</td>\n",
              "      <td>...</td>\n",
              "      <td>...</td>\n",
              "      <td>...</td>\n",
              "    </tr>\n",
              "    <tr>\n",
              "      <th>2274</th>\n",
              "      <td>22.7892</td>\n",
              "      <td>0.283717</td>\n",
              "      <td>-0.731298</td>\n",
              "      <td>30.8493</td>\n",
              "      <td>1.494610</td>\n",
              "      <td>2.793680</td>\n",
              "    </tr>\n",
              "    <tr>\n",
              "      <th>2275</th>\n",
              "      <td>22.7892</td>\n",
              "      <td>0.283717</td>\n",
              "      <td>-0.731298</td>\n",
              "      <td>30.8493</td>\n",
              "      <td>1.494610</td>\n",
              "      <td>2.793680</td>\n",
              "    </tr>\n",
              "    <tr>\n",
              "      <th>2276</th>\n",
              "      <td>57.6002</td>\n",
              "      <td>-0.562840</td>\n",
              "      <td>2.953590</td>\n",
              "      <td>33.0368</td>\n",
              "      <td>-0.202614</td>\n",
              "      <td>-0.058318</td>\n",
              "    </tr>\n",
              "    <tr>\n",
              "      <th>2277</th>\n",
              "      <td>33.0368</td>\n",
              "      <td>-0.202614</td>\n",
              "      <td>-0.058318</td>\n",
              "      <td>57.6002</td>\n",
              "      <td>-0.562840</td>\n",
              "      <td>2.953590</td>\n",
              "    </tr>\n",
              "    <tr>\n",
              "      <th>2278</th>\n",
              "      <td>33.0368</td>\n",
              "      <td>-0.202614</td>\n",
              "      <td>-0.058318</td>\n",
              "      <td>57.6002</td>\n",
              "      <td>-0.562840</td>\n",
              "      <td>2.953590</td>\n",
              "    </tr>\n",
              "    <tr>\n",
              "      <th>2279</th>\n",
              "      <td>33.0368</td>\n",
              "      <td>-0.202614</td>\n",
              "      <td>-0.058318</td>\n",
              "      <td>57.6002</td>\n",
              "      <td>-0.562840</td>\n",
              "      <td>2.953590</td>\n",
              "    </tr>\n",
              "    <tr>\n",
              "      <th>2280</th>\n",
              "      <td>37.0238</td>\n",
              "      <td>-0.541225</td>\n",
              "      <td>-2.911150</td>\n",
              "      <td>53.1578</td>\n",
              "      <td>0.117666</td>\n",
              "      <td>0.809582</td>\n",
              "    </tr>\n",
              "    <tr>\n",
              "      <th>2281</th>\n",
              "      <td>53.1578</td>\n",
              "      <td>0.117666</td>\n",
              "      <td>0.809582</td>\n",
              "      <td>37.0238</td>\n",
              "      <td>-0.541225</td>\n",
              "      <td>-2.911150</td>\n",
              "    </tr>\n",
              "    <tr>\n",
              "      <th>2282</th>\n",
              "      <td>53.1578</td>\n",
              "      <td>0.117666</td>\n",
              "      <td>0.809582</td>\n",
              "      <td>37.0238</td>\n",
              "      <td>-0.541225</td>\n",
              "      <td>-2.911150</td>\n",
              "    </tr>\n",
              "    <tr>\n",
              "      <th>2283</th>\n",
              "      <td>53.1578</td>\n",
              "      <td>0.117666</td>\n",
              "      <td>0.809582</td>\n",
              "      <td>37.0238</td>\n",
              "      <td>-0.541225</td>\n",
              "      <td>-2.911150</td>\n",
              "    </tr>\n",
              "    <tr>\n",
              "      <th>2284</th>\n",
              "      <td>31.9470</td>\n",
              "      <td>-0.919537</td>\n",
              "      <td>-0.792207</td>\n",
              "      <td>44.0974</td>\n",
              "      <td>0.610767</td>\n",
              "      <td>1.466140</td>\n",
              "    </tr>\n",
              "    <tr>\n",
              "      <th>2285</th>\n",
              "      <td>44.0974</td>\n",
              "      <td>0.610767</td>\n",
              "      <td>1.466140</td>\n",
              "      <td>31.9470</td>\n",
              "      <td>-0.919537</td>\n",
              "      <td>-0.792207</td>\n",
              "    </tr>\n",
              "    <tr>\n",
              "      <th>2286</th>\n",
              "      <td>44.0974</td>\n",
              "      <td>0.610767</td>\n",
              "      <td>1.466140</td>\n",
              "      <td>31.9470</td>\n",
              "      <td>-0.919537</td>\n",
              "      <td>-0.792207</td>\n",
              "    </tr>\n",
              "    <tr>\n",
              "      <th>2287</th>\n",
              "      <td>44.0974</td>\n",
              "      <td>0.610767</td>\n",
              "      <td>1.466140</td>\n",
              "      <td>31.9470</td>\n",
              "      <td>-0.919537</td>\n",
              "      <td>-0.792207</td>\n",
              "    </tr>\n",
              "    <tr>\n",
              "      <th>2288</th>\n",
              "      <td>41.9655</td>\n",
              "      <td>-0.390468</td>\n",
              "      <td>3.077270</td>\n",
              "      <td>48.6344</td>\n",
              "      <td>-0.618444</td>\n",
              "      <td>0.190813</td>\n",
              "    </tr>\n",
              "    <tr>\n",
              "      <th>2289</th>\n",
              "      <td>48.6344</td>\n",
              "      <td>-0.618444</td>\n",
              "      <td>0.190813</td>\n",
              "      <td>41.9655</td>\n",
              "      <td>-0.390468</td>\n",
              "      <td>3.077270</td>\n",
              "    </tr>\n",
              "    <tr>\n",
              "      <th>2290</th>\n",
              "      <td>48.6344</td>\n",
              "      <td>-0.618444</td>\n",
              "      <td>0.190813</td>\n",
              "      <td>41.9655</td>\n",
              "      <td>-0.390468</td>\n",
              "      <td>3.077270</td>\n",
              "    </tr>\n",
              "    <tr>\n",
              "      <th>2291</th>\n",
              "      <td>48.6344</td>\n",
              "      <td>-0.618444</td>\n",
              "      <td>0.190813</td>\n",
              "      <td>41.9655</td>\n",
              "      <td>-0.390468</td>\n",
              "      <td>3.077270</td>\n",
              "    </tr>\n",
              "    <tr>\n",
              "      <th>2292</th>\n",
              "      <td>37.0110</td>\n",
              "      <td>1.725080</td>\n",
              "      <td>-1.995740</td>\n",
              "      <td>33.5792</td>\n",
              "      <td>0.324654</td>\n",
              "      <td>1.174330</td>\n",
              "    </tr>\n",
              "    <tr>\n",
              "      <th>2293</th>\n",
              "      <td>33.5792</td>\n",
              "      <td>0.324654</td>\n",
              "      <td>1.174330</td>\n",
              "      <td>37.0110</td>\n",
              "      <td>1.725080</td>\n",
              "      <td>-1.995740</td>\n",
              "    </tr>\n",
              "    <tr>\n",
              "      <th>2294</th>\n",
              "      <td>33.5792</td>\n",
              "      <td>0.324654</td>\n",
              "      <td>1.174330</td>\n",
              "      <td>37.0110</td>\n",
              "      <td>1.725080</td>\n",
              "      <td>-1.995740</td>\n",
              "    </tr>\n",
              "    <tr>\n",
              "      <th>2295</th>\n",
              "      <td>33.5792</td>\n",
              "      <td>0.324654</td>\n",
              "      <td>1.174330</td>\n",
              "      <td>37.0110</td>\n",
              "      <td>1.725080</td>\n",
              "      <td>-1.995740</td>\n",
              "    </tr>\n",
              "    <tr>\n",
              "      <th>2296</th>\n",
              "      <td>22.8145</td>\n",
              "      <td>-0.645971</td>\n",
              "      <td>-2.404430</td>\n",
              "      <td>24.1264</td>\n",
              "      <td>0.818806</td>\n",
              "      <td>0.661492</td>\n",
              "    </tr>\n",
              "    <tr>\n",
              "      <th>2297</th>\n",
              "      <td>24.1264</td>\n",
              "      <td>0.818806</td>\n",
              "      <td>0.661492</td>\n",
              "      <td>22.8145</td>\n",
              "      <td>-0.645971</td>\n",
              "      <td>-2.404430</td>\n",
              "    </tr>\n",
              "    <tr>\n",
              "      <th>2298</th>\n",
              "      <td>24.1264</td>\n",
              "      <td>0.818806</td>\n",
              "      <td>0.661492</td>\n",
              "      <td>22.8145</td>\n",
              "      <td>-0.645971</td>\n",
              "      <td>-2.404430</td>\n",
              "    </tr>\n",
              "    <tr>\n",
              "      <th>2299</th>\n",
              "      <td>24.1264</td>\n",
              "      <td>0.818806</td>\n",
              "      <td>0.661492</td>\n",
              "      <td>22.8145</td>\n",
              "      <td>-0.645971</td>\n",
              "      <td>-2.404430</td>\n",
              "    </tr>\n",
              "    <tr>\n",
              "      <th>2300</th>\n",
              "      <td>72.8781</td>\n",
              "      <td>-1.482700</td>\n",
              "      <td>-2.775240</td>\n",
              "      <td>32.3997</td>\n",
              "      <td>-1.570440</td>\n",
              "      <td>0.037027</td>\n",
              "    </tr>\n",
              "    <tr>\n",
              "      <th>2301</th>\n",
              "      <td>32.3997</td>\n",
              "      <td>-1.570440</td>\n",
              "      <td>0.037027</td>\n",
              "      <td>72.8781</td>\n",
              "      <td>-1.482700</td>\n",
              "      <td>-2.775240</td>\n",
              "    </tr>\n",
              "    <tr>\n",
              "      <th>2302</th>\n",
              "      <td>32.3997</td>\n",
              "      <td>-1.570440</td>\n",
              "      <td>0.037027</td>\n",
              "      <td>72.8781</td>\n",
              "      <td>-1.482700</td>\n",
              "      <td>-2.775240</td>\n",
              "    </tr>\n",
              "    <tr>\n",
              "      <th>2303</th>\n",
              "      <td>32.3997</td>\n",
              "      <td>-1.570440</td>\n",
              "      <td>0.037027</td>\n",
              "      <td>72.8781</td>\n",
              "      <td>-1.482700</td>\n",
              "      <td>-2.775240</td>\n",
              "    </tr>\n",
              "  </tbody>\n",
              "</table>\n",
              "<p>2304 rows × 6 columns</p>\n",
              "</div>"
            ],
            "text/plain": [
              "          pt1      eta1      phi1      pt2      eta2      phi2\n",
              "0     44.7322 -1.217690  2.741260  38.8311 -1.051390 -0.440873\n",
              "1     38.8311 -1.051390 -0.440873  44.7322 -1.217690  2.741260\n",
              "2     38.8311 -1.051390 -0.440873  44.7322 -1.217690  2.741260\n",
              "3     38.8311 -1.051390 -0.440873  44.7322 -1.217690  2.741260\n",
              "4     27.2981 -0.990688  0.583351  21.8913  1.444340 -2.707650\n",
              "5     21.8913  1.444340 -2.707650  27.2981 -0.990688  0.583351\n",
              "6     21.8913  1.444340 -2.707650  27.2981 -0.990688  0.583351\n",
              "7     21.8913  1.444340 -2.707650  27.2981 -0.990688  0.583351\n",
              "8     77.0336 -1.140270  0.393582  72.7634 -0.637934 -0.793162\n",
              "9     72.7634 -0.637934 -0.793162  77.0336 -1.140270  0.393582\n",
              "10    72.7634 -0.637934 -0.793162  77.0336 -1.140270  0.393582\n",
              "11    72.7634 -0.637934 -0.793162  77.0336 -1.140270  0.393582\n",
              "12    44.5173  0.426044 -0.070413  40.6637 -0.525298  2.873290\n",
              "13    40.6637 -0.525298  2.873290  44.5173  0.426044 -0.070413\n",
              "14    40.6637 -0.525298  2.873290  44.5173  0.426044 -0.070413\n",
              "15    40.6637 -0.525298  2.873290  44.5173  0.426044 -0.070413\n",
              "16    27.4237 -1.368470  0.112680  42.3231 -1.264190 -3.021950\n",
              "17    42.3231 -1.264190 -3.021950  27.4237 -1.368470  0.112680\n",
              "18    42.3231 -1.264190 -3.021950  27.4237 -1.368470  0.112680\n",
              "19    42.3231 -1.264190 -3.021950  27.4237 -1.368470  0.112680\n",
              "20    35.9165  1.432090 -2.431830  44.8701  0.496169  0.721981\n",
              "21    44.8701  0.496169  0.721981  35.9165  1.432090 -2.431830\n",
              "22    44.8701  0.496169  0.721981  35.9165  1.432090 -2.431830\n",
              "23    44.8701  0.496169  0.721981  35.9165  1.432090 -2.431830\n",
              "24    36.2136 -0.532520 -1.652390  40.4100  0.836524  1.471740\n",
              "25    40.4100  0.836524  1.471740  36.2136 -0.532520 -1.652390\n",
              "26    40.4100  0.836524  1.471740  36.2136 -0.532520 -1.652390\n",
              "27    40.4100  0.836524  1.471740  36.2136 -0.532520 -1.652390\n",
              "28    45.5010 -1.558430 -1.624000  30.6742 -0.220038  1.764730\n",
              "29    30.6742 -0.220038  1.764730  45.5010 -1.558430 -1.624000\n",
              "...       ...       ...       ...      ...       ...       ...\n",
              "2274  22.7892  0.283717 -0.731298  30.8493  1.494610  2.793680\n",
              "2275  22.7892  0.283717 -0.731298  30.8493  1.494610  2.793680\n",
              "2276  57.6002 -0.562840  2.953590  33.0368 -0.202614 -0.058318\n",
              "2277  33.0368 -0.202614 -0.058318  57.6002 -0.562840  2.953590\n",
              "2278  33.0368 -0.202614 -0.058318  57.6002 -0.562840  2.953590\n",
              "2279  33.0368 -0.202614 -0.058318  57.6002 -0.562840  2.953590\n",
              "2280  37.0238 -0.541225 -2.911150  53.1578  0.117666  0.809582\n",
              "2281  53.1578  0.117666  0.809582  37.0238 -0.541225 -2.911150\n",
              "2282  53.1578  0.117666  0.809582  37.0238 -0.541225 -2.911150\n",
              "2283  53.1578  0.117666  0.809582  37.0238 -0.541225 -2.911150\n",
              "2284  31.9470 -0.919537 -0.792207  44.0974  0.610767  1.466140\n",
              "2285  44.0974  0.610767  1.466140  31.9470 -0.919537 -0.792207\n",
              "2286  44.0974  0.610767  1.466140  31.9470 -0.919537 -0.792207\n",
              "2287  44.0974  0.610767  1.466140  31.9470 -0.919537 -0.792207\n",
              "2288  41.9655 -0.390468  3.077270  48.6344 -0.618444  0.190813\n",
              "2289  48.6344 -0.618444  0.190813  41.9655 -0.390468  3.077270\n",
              "2290  48.6344 -0.618444  0.190813  41.9655 -0.390468  3.077270\n",
              "2291  48.6344 -0.618444  0.190813  41.9655 -0.390468  3.077270\n",
              "2292  37.0110  1.725080 -1.995740  33.5792  0.324654  1.174330\n",
              "2293  33.5792  0.324654  1.174330  37.0110  1.725080 -1.995740\n",
              "2294  33.5792  0.324654  1.174330  37.0110  1.725080 -1.995740\n",
              "2295  33.5792  0.324654  1.174330  37.0110  1.725080 -1.995740\n",
              "2296  22.8145 -0.645971 -2.404430  24.1264  0.818806  0.661492\n",
              "2297  24.1264  0.818806  0.661492  22.8145 -0.645971 -2.404430\n",
              "2298  24.1264  0.818806  0.661492  22.8145 -0.645971 -2.404430\n",
              "2299  24.1264  0.818806  0.661492  22.8145 -0.645971 -2.404430\n",
              "2300  72.8781 -1.482700 -2.775240  32.3997 -1.570440  0.037027\n",
              "2301  32.3997 -1.570440  0.037027  72.8781 -1.482700 -2.775240\n",
              "2302  32.3997 -1.570440  0.037027  72.8781 -1.482700 -2.775240\n",
              "2303  32.3997 -1.570440  0.037027  72.8781 -1.482700 -2.775240\n",
              "\n",
              "[2304 rows x 6 columns]"
            ]
          },
          "metadata": {
            "tags": []
          },
          "execution_count": 24
        }
      ]
    },
    {
      "metadata": {
        "id": "925ZVICp_Z8a",
        "colab_type": "text"
      },
      "cell_type": "markdown",
      "source": [
        "##  HDF5\n",
        "\n",
        "HDF5 - [Hierarchical Data Format](https://www.hdfgroup.org/) (you also can meet .hdf, .h5 file extensions for it).\n",
        "\n",
        "HDF5 include two major types of object:\n",
        "* *Datasets*, which are multidimensional arrays of a homogeneous type\n",
        "* *Groups*, which are container structures which can hold datasets and other groups\n",
        "\n",
        "It's very easy to use HDF5 in Python via [h5py](https://www.h5py.org) library:\n"
      ]
    },
    {
      "metadata": {
        "id": "NIDqqSR-_e8K",
        "colab_type": "code",
        "colab": {}
      },
      "cell_type": "code",
      "source": [
        "#!pip install h5py\n",
        "import h5py\n",
        "import numpy as np"
      ],
      "execution_count": 0,
      "outputs": []
    },
    {
      "metadata": {
        "id": "bqhc-jqlC5qj",
        "colab_type": "text"
      },
      "cell_type": "markdown",
      "source": [
        "Let's create a dataset using h5py:"
      ]
    },
    {
      "metadata": {
        "id": "iGttPVZoC6Pg",
        "colab_type": "code",
        "colab": {}
      },
      "cell_type": "code",
      "source": [
        "arr = np.random.randn(1000)\n",
        "\n",
        "with h5py.File('random.hdf5', 'w') as f:\n",
        "    dset = f.create_dataset(\"default\", data=arr)"
      ],
      "execution_count": 0,
      "outputs": []
    },
    {
      "metadata": {
        "id": "Bq1gIfueDwES",
        "colab_type": "text"
      },
      "cell_type": "markdown",
      "source": [
        "And read it:"
      ]
    },
    {
      "metadata": {
        "id": "hzXCqFZPDWji",
        "colab_type": "code",
        "outputId": "f44cbd17-3cb2-407b-a9f2-7ef90de3725d",
        "colab": {
          "base_uri": "https://localhost:8080/",
          "height": 54
        }
      },
      "cell_type": "code",
      "source": [
        "with h5py.File('random.hdf5', 'r') as f:\n",
        "  data = f['default']\n",
        "  print(data.shape)\n",
        "  print(data.dtype)"
      ],
      "execution_count": 27,
      "outputs": [
        {
          "output_type": "stream",
          "text": [
            "(1000,)\n",
            "float64\n"
          ],
          "name": "stdout"
        }
      ]
    },
    {
      "metadata": {
        "id": "HDbqzeEtDPda",
        "colab_type": "text"
      },
      "cell_type": "markdown",
      "source": [
        "One can see object we obtained isn’t an array, but an HDF5 dataset. Like NumPy arrays, datasets have both a shape and a data type."
      ]
    },
    {
      "metadata": {
        "id": "22RfmaS6Ev0k",
        "colab_type": "text"
      },
      "cell_type": "markdown",
      "source": [
        "Now let's try selective reading from HDF5 dataset:"
      ]
    },
    {
      "metadata": {
        "id": "zzraPRiTADXd",
        "colab_type": "code",
        "outputId": "1d54981e-08c2-43fb-fdf1-d398b5d4f676",
        "colab": {
          "base_uri": "https://localhost:8080/",
          "height": 35
        }
      },
      "cell_type": "code",
      "source": [
        "with h5py.File('random.hdf5', 'r') as f:\n",
        "   data_set = f['default']\n",
        "   data = data_set[:10]\n",
        "print(data[1])"
      ],
      "execution_count": 28,
      "outputs": [
        {
          "output_type": "stream",
          "text": [
            "-0.0465490693584507\n"
          ],
          "name": "stdout"
        }
      ]
    },
    {
      "metadata": {
        "id": "uZ-TD6VvGXVN",
        "colab_type": "text"
      },
      "cell_type": "markdown",
      "source": [
        "HDF5 is very flexible file format. It can easily handle parallel processes. Writing to HDF5 also can be selective. HDF5 allows compression, chunked writing and writing on-the-fly."
      ]
    },
    {
      "metadata": {
        "id": "yV5JkZlJlMTo",
        "colab_type": "text"
      },
      "cell_type": "markdown",
      "source": [
        "# Additional material"
      ]
    },
    {
      "metadata": {
        "id": "u2_0yRIJa1kz",
        "colab_type": "text"
      },
      "cell_type": "markdown",
      "source": [
        "# SciPy - scientific algorithms for Python\n",
        "\n",
        "The SciPy framework builds on top of the low-level NumPy framework for multidimensional arrays, and provides a large number of higher-level scientific algorithms. Some of the topics that SciPy covers are:\n",
        "\n",
        "* Special functions (scipy.special)\n",
        "* Integration (scipy.integrate)\n",
        "* Optimization (scipy.optimize)\n",
        "* Interpolation (scipy.interpolate)\n",
        "* Fourier Transforms (scipy.fftpack)\n",
        "* Signal Processing (scipy.signal)\n",
        "* Linear Algebra (scipy.linalg)\n",
        "* Sparse Eigenvalue Problems (scipy.sparse)\n",
        "* Statistics (scipy.stats)\n",
        "* Multi-dimensional image processing (scipy.ndimage)\n",
        "* File IO (scipy.io)\n",
        "\n",
        "Each of these submodules provides a number of functions and classes that can be used to solve problems in their respective topics.\n",
        "\n",
        "In this lecture we will look at how to use some of these subpackages.\n",
        "\n",
        "To access the SciPy package in a Python program, we start by importing the scipy module."
      ]
    },
    {
      "metadata": {
        "id": "mVmK67jocl5V",
        "colab_type": "code",
        "colab": {}
      },
      "cell_type": "code",
      "source": [
        "import scipy"
      ],
      "execution_count": 0,
      "outputs": []
    },
    {
      "metadata": {
        "id": "9LlhdAK1couM",
        "colab_type": "text"
      },
      "cell_type": "markdown",
      "source": [
        "If we only need to use part of the SciPy framework we can selectively include only those modules we are interested in. For example, to include the linear algebra package under the name la, we can do:"
      ]
    },
    {
      "metadata": {
        "id": "lNmW9cuPdjUc",
        "colab_type": "code",
        "colab": {}
      },
      "cell_type": "code",
      "source": [
        "import scipy.linalg as la"
      ],
      "execution_count": 0,
      "outputs": []
    },
    {
      "metadata": {
        "id": "SHSOdPGNd2fp",
        "colab_type": "text"
      },
      "cell_type": "markdown",
      "source": [
        "Note: there is  no performance difference between the two approaches of importing modules. The choice between one or the other then, should be based on coding style instead."
      ]
    },
    {
      "metadata": {
        "id": "lcK5eAjBedmi",
        "colab_type": "text"
      },
      "cell_type": "markdown",
      "source": [
        "## Linear algebra\n",
        "\n",
        "The linear algebra module contains a lot of matrix related functions, including linear equation solving, eigenvalue solvers, matrix functions (for example matrix-exponentiation), a number of different decompositions (SVD, LU, cholesky), etc.\n",
        "\n",
        "Detailed documetation is available at: [http://docs.scipy.org/doc/scipy/reference/linalg.html](http://docs.scipy.org/doc/scipy/reference/linalg.html)\n",
        "\n",
        "Here we will look at how to use some of these functions:"
      ]
    },
    {
      "metadata": {
        "id": "alnlfeLbew-Z",
        "colab_type": "text"
      },
      "cell_type": "markdown",
      "source": [
        "## Linear equation systems\n",
        "\n",
        "Linear equation systems on the matrix form\n",
        "\n",
        "$A x = b$\n",
        "\n",
        "where $A$ is a matrix and $x,b$ are vectors can be solved like:\n"
      ]
    },
    {
      "metadata": {
        "id": "xsqi2-XFe7yv",
        "colab_type": "code",
        "outputId": "e9221720-95c8-4d5b-cb04-085df2f58009",
        "colab": {
          "base_uri": "https://localhost:8080/",
          "height": 35
        }
      },
      "cell_type": "code",
      "source": [
        "A = np.array([[3, 2, 0], [1, -1, 0], [0, 5, 1]])\n",
        "b = np.array([2, 4, -1])\n",
        "\n",
        "from scipy import linalg\n",
        "x = linalg.solve(A, b)\n",
        "\n",
        "x"
      ],
      "execution_count": 31,
      "outputs": [
        {
          "output_type": "execute_result",
          "data": {
            "text/plain": [
              "array([ 2., -2.,  9.])"
            ]
          },
          "metadata": {
            "tags": []
          },
          "execution_count": 31
        }
      ]
    },
    {
      "metadata": {
        "id": "imm91UjagmgX",
        "colab_type": "code",
        "colab": {
          "base_uri": "https://localhost:8080/",
          "height": 174
        },
        "outputId": "07f6fb17-feb0-4a4d-d50a-ea52fb8411eb"
      },
      "cell_type": "code",
      "source": [
        "# check\n",
        "dot(A, x) - b"
      ],
      "execution_count": 32,
      "outputs": [
        {
          "output_type": "error",
          "ename": "NameError",
          "evalue": "ignored",
          "traceback": [
            "\u001b[0;31m---------------------------------------------------------------------------\u001b[0m",
            "\u001b[0;31mNameError\u001b[0m                                 Traceback (most recent call last)",
            "\u001b[0;32m<ipython-input-32-ee271080db40>\u001b[0m in \u001b[0;36m<module>\u001b[0;34m()\u001b[0m\n\u001b[0;32m----> 1\u001b[0;31m \u001b[0mdot\u001b[0m\u001b[0;34m(\u001b[0m\u001b[0mA\u001b[0m\u001b[0;34m,\u001b[0m \u001b[0mx\u001b[0m\u001b[0;34m)\u001b[0m \u001b[0;34m-\u001b[0m \u001b[0mb\u001b[0m\u001b[0;34m\u001b[0m\u001b[0m\n\u001b[0m",
            "\u001b[0;31mNameError\u001b[0m: name 'dot' is not defined"
          ]
        }
      ]
    },
    {
      "metadata": {
        "id": "-6wBO0sXguiR",
        "colab_type": "text"
      },
      "cell_type": "markdown",
      "source": [
        "We can also do the same with\n",
        "\n",
        "$A X = B$\n",
        "\n",
        "where $A, B, X$ are matrices:\n"
      ]
    },
    {
      "metadata": {
        "id": "W-Xz8DE6gwIG",
        "colab_type": "code",
        "outputId": "cea8c506-f5d6-4c90-99f9-7869d1cd032a",
        "colab": {
          "base_uri": "https://localhost:8080/",
          "height": 68
        }
      },
      "cell_type": "code",
      "source": [
        "A = scipy.rand(3,3)\n",
        "B = scipy.rand(3,3)\n",
        "\n",
        "X = linalg.solve(A, B)\n",
        "\n",
        "X"
      ],
      "execution_count": 0,
      "outputs": [
        {
          "output_type": "execute_result",
          "data": {
            "text/plain": [
              "array([[ 1.16873326e+00,  7.17951462e-01,  9.61427451e-01],\n",
              "       [ 5.30024666e-03,  1.23844125e+00,  1.06726557e-01],\n",
              "       [-1.39727856e+00, -6.53317970e+00, -2.65651400e+00]])"
            ]
          },
          "metadata": {
            "tags": []
          },
          "execution_count": 39
        }
      ]
    },
    {
      "metadata": {
        "id": "0PdRvqphgzWE",
        "colab_type": "text"
      },
      "cell_type": "markdown",
      "source": [
        "## Statistics\n",
        "\n",
        "The scipy.stats module contains a large number of statistical distributions, statistical functions and tests. For a complete documentation of its features, see [http://docs.scipy.org/doc/scipy/reference/stats.html](http://docs.scipy.org/doc/scipy/reference/stats.html)."
      ]
    },
    {
      "metadata": {
        "id": "lloiRTM0hr6k",
        "colab_type": "code",
        "outputId": "18f3e95f-1495-4740-9bce-50556e6cf307",
        "colab": {
          "base_uri": "https://localhost:8080/",
          "height": 265
        }
      },
      "cell_type": "code",
      "source": [
        "from scipy import stats\n",
        "\n",
        "# create a (discreet) random variable with poissionian distribution\n",
        "X = stats.poisson(3.5) # photon distribution for a coherent state with n=3.5 photons\n",
        "\n",
        "n = np.arange(0,15)\n",
        "\n",
        "fig, axes = plt.subplots(3,1, sharex=True)\n",
        "\n",
        "# plot the probability mass function (PMF)\n",
        "axes[0].step(n, X.pmf(n))\n",
        "\n",
        "# plot the commulative distribution function (CDF)\n",
        "axes[1].step(n, X.cdf(n))\n",
        "\n",
        "# plot histogram of 1000 random realizations of the stochastic variable X\n",
        "axes[2].hist(X.rvs(size=1000));"
      ],
      "execution_count": 0,
      "outputs": [
        {
          "output_type": "display_data",
          "data": {
            "image/png": "[encoded data removed]",
            "text/plain": [
              "<matplotlib.figure.Figure at 0x7f1553983438>"
            ]
          },
          "metadata": {
            "tags": []
          }
        }
      ]
    },
    {
      "metadata": {
        "colab_type": "text",
        "id": "3XBtC6s-lyTG"
      },
      "cell_type": "markdown",
      "source": [
        "## Statistical tests\n",
        "Test if two sets of (independent) random data comes from the same distribution:"
      ]
    },
    {
      "metadata": {
        "colab_type": "code",
        "outputId": "3d03719c-a3e1-4a14-b05d-28410910d57a",
        "id": "fwodhtP9lyTO",
        "colab": {
          "base_uri": "https://localhost:8080/",
          "height": 51
        }
      },
      "cell_type": "code",
      "source": [
        "t_statistic, p_value = stats.ttest_ind(X.rvs(size=1000), X.rvs(size=1000))\n",
        "\n",
        "print(\"t-statistic =\", t_statistic)\n",
        "print(\"p-value =\", p_value)"
      ],
      "execution_count": 0,
      "outputs": [
        {
          "output_type": "stream",
          "text": [
            "t-statistic = -1.8242625219734867\n",
            "p-value = 0.06826168283706106\n"
          ],
          "name": "stdout"
        }
      ]
    },
    {
      "metadata": {
        "colab_type": "text",
        "id": "-eFWzGGDlyTl"
      },
      "cell_type": "markdown",
      "source": [
        "Since the p value is very large we cannot reject the hypothesis that the two sets of random data have different means.\n",
        "\n",
        "To test if the mean of a single sample of data has mean 0.1 (the true mean is 3.5):\n"
      ]
    },
    {
      "metadata": {
        "colab_type": "code",
        "outputId": "2d374bc9-b890-43bc-fec5-4e0ac92d183c",
        "id": "ABWGxEdolyTq",
        "colab": {
          "base_uri": "https://localhost:8080/",
          "height": 34
        }
      },
      "cell_type": "code",
      "source": [
        "stats.ttest_1samp(X.rvs(size=1000), 0.1)"
      ],
      "execution_count": 0,
      "outputs": [
        {
          "output_type": "execute_result",
          "data": {
            "text/plain": [
              "Ttest_1sampResult(statistic=56.51227857703516, pvalue=2.0490612731e-313)"
            ]
          },
          "metadata": {
            "tags": []
          },
          "execution_count": 42
        }
      ]
    },
    {
      "metadata": {
        "id": "hf6ULZnJ8M5k",
        "colab_type": "text"
      },
      "cell_type": "markdown",
      "source": [
        "# More on Pandas"
      ]
    },
    {
      "metadata": {
        "id": "zahEHAnSpYik",
        "colab_type": "text"
      },
      "cell_type": "markdown",
      "source": [
        "## Object Creation\n",
        "\n",
        "Creating a Series by passing a list of values, letting pandas create a default integer index:"
      ]
    },
    {
      "metadata": {
        "id": "0p5CQoMipZzN",
        "colab_type": "code",
        "outputId": "e827f683-4349-49bf-deb7-d0bdec83c5be",
        "colab": {
          "base_uri": "https://localhost:8080/",
          "height": 136
        }
      },
      "cell_type": "code",
      "source": [
        "s = pd.Series([1,3,5,np.nan,6,8])\n",
        "s"
      ],
      "execution_count": 0,
      "outputs": [
        {
          "output_type": "execute_result",
          "data": {
            "text/plain": [
              "0    1.0\n",
              "1    3.0\n",
              "2    5.0\n",
              "3    NaN\n",
              "4    6.0\n",
              "5    8.0\n",
              "dtype: float64"
            ]
          },
          "metadata": {
            "tags": []
          },
          "execution_count": 27
        }
      ]
    },
    {
      "metadata": {
        "id": "II51wDJ3pnNB",
        "colab_type": "text"
      },
      "cell_type": "markdown",
      "source": [
        "Creating a DataFrame by passing a NumPy array, with a datetime index and labeled columns:"
      ]
    },
    {
      "metadata": {
        "id": "v2bqizH3pn71",
        "colab_type": "code",
        "outputId": "a2bf6b78-205e-4a11-db5c-e56a0b0f2436",
        "colab": {
          "base_uri": "https://localhost:8080/",
          "height": 68
        }
      },
      "cell_type": "code",
      "source": [
        "dates = pd.date_range('20130101', periods=6)\n",
        "dates"
      ],
      "execution_count": 0,
      "outputs": [
        {
          "output_type": "execute_result",
          "data": {
            "text/plain": [
              "DatetimeIndex(['2013-01-01', '2013-01-02', '2013-01-03', '2013-01-04',\n",
              "               '2013-01-05', '2013-01-06'],\n",
              "              dtype='datetime64[ns]', freq='D')"
            ]
          },
          "metadata": {
            "tags": []
          },
          "execution_count": 28
        }
      ]
    },
    {
      "metadata": {
        "id": "DnBPgYIpp1bC",
        "colab_type": "code",
        "outputId": "11dbb819-cb83-40e1-ed8c-9d080ad94c4a",
        "colab": {
          "base_uri": "https://localhost:8080/",
          "height": 235
        }
      },
      "cell_type": "code",
      "source": [
        "df = pd.DataFrame(np.random.randn(6,4), index=dates, columns=list('ABCD'))\n",
        "\n",
        "df"
      ],
      "execution_count": 0,
      "outputs": [
        {
          "output_type": "execute_result",
          "data": {
            "text/html": [
              "<div>\n",
              "<style scoped>\n",
              "    .dataframe tbody tr th:only-of-type {\n",
              "        vertical-align: middle;\n",
              "    }\n",
              "\n",
              "    .dataframe tbody tr th {\n",
              "        vertical-align: top;\n",
              "    }\n",
              "\n",
              "    .dataframe thead th {\n",
              "        text-align: right;\n",
              "    }\n",
              "</style>\n",
              "<table border=\"1\" class=\"dataframe\">\n",
              "  <thead>\n",
              "    <tr style=\"text-align: right;\">\n",
              "      <th></th>\n",
              "      <th>A</th>\n",
              "      <th>B</th>\n",
              "      <th>C</th>\n",
              "      <th>D</th>\n",
              "    </tr>\n",
              "  </thead>\n",
              "  <tbody>\n",
              "    <tr>\n",
              "      <th>2013-01-01</th>\n",
              "      <td>-1.359722</td>\n",
              "      <td>-0.515774</td>\n",
              "      <td>1.396831</td>\n",
              "      <td>-0.064067</td>\n",
              "    </tr>\n",
              "    <tr>\n",
              "      <th>2013-01-02</th>\n",
              "      <td>1.215245</td>\n",
              "      <td>0.202695</td>\n",
              "      <td>-1.089379</td>\n",
              "      <td>0.307725</td>\n",
              "    </tr>\n",
              "    <tr>\n",
              "      <th>2013-01-03</th>\n",
              "      <td>0.489987</td>\n",
              "      <td>-0.385811</td>\n",
              "      <td>-0.764385</td>\n",
              "      <td>-2.183181</td>\n",
              "    </tr>\n",
              "    <tr>\n",
              "      <th>2013-01-04</th>\n",
              "      <td>0.680014</td>\n",
              "      <td>0.298680</td>\n",
              "      <td>-1.469834</td>\n",
              "      <td>-1.835706</td>\n",
              "    </tr>\n",
              "    <tr>\n",
              "      <th>2013-01-05</th>\n",
              "      <td>0.856720</td>\n",
              "      <td>0.281778</td>\n",
              "      <td>0.175882</td>\n",
              "      <td>1.163814</td>\n",
              "    </tr>\n",
              "    <tr>\n",
              "      <th>2013-01-06</th>\n",
              "      <td>-0.136092</td>\n",
              "      <td>-0.416611</td>\n",
              "      <td>2.446754</td>\n",
              "      <td>1.668228</td>\n",
              "    </tr>\n",
              "  </tbody>\n",
              "</table>\n",
              "</div>"
            ],
            "text/plain": [
              "                   A         B         C         D\n",
              "2013-01-01 -1.359722 -0.515774  1.396831 -0.064067\n",
              "2013-01-02  1.215245  0.202695 -1.089379  0.307725\n",
              "2013-01-03  0.489987 -0.385811 -0.764385 -2.183181\n",
              "2013-01-04  0.680014  0.298680 -1.469834 -1.835706\n",
              "2013-01-05  0.856720  0.281778  0.175882  1.163814\n",
              "2013-01-06 -0.136092 -0.416611  2.446754  1.668228"
            ]
          },
          "metadata": {
            "tags": []
          },
          "execution_count": 29
        }
      ]
    },
    {
      "metadata": {
        "id": "nWm1bmBTp8hK",
        "colab_type": "text"
      },
      "cell_type": "markdown",
      "source": [
        "Creating a DataFrame by passing a dict of objects that can be converted to series-like."
      ]
    },
    {
      "metadata": {
        "id": "j7Fupl80p9V8",
        "colab_type": "code",
        "outputId": "8f02d1ad-8f02-4e66-ad45-3eba09b853d1",
        "colab": {
          "base_uri": "https://localhost:8080/",
          "height": 173
        }
      },
      "cell_type": "code",
      "source": [
        "df2 = pd.DataFrame({ 'A' : 1.,\n",
        "\t'B' : pd.Timestamp('20130102'),\n",
        "\t'C' : pd.Series(1,index=list(range(4)),dtype='float32'),\n",
        "\t'D' : np.array([3] * 4,dtype='int32'),\n",
        "\t'E' : pd.Categorical([\"test\",\"train\",\"test\",\"train\"]),\n",
        "\t'F' : 'foo' })\n",
        "\n",
        "df2"
      ],
      "execution_count": 0,
      "outputs": [
        {
          "output_type": "execute_result",
          "data": {
            "text/html": [
              "<div>\n",
              "<style scoped>\n",
              "    .dataframe tbody tr th:only-of-type {\n",
              "        vertical-align: middle;\n",
              "    }\n",
              "\n",
              "    .dataframe tbody tr th {\n",
              "        vertical-align: top;\n",
              "    }\n",
              "\n",
              "    .dataframe thead th {\n",
              "        text-align: right;\n",
              "    }\n",
              "</style>\n",
              "<table border=\"1\" class=\"dataframe\">\n",
              "  <thead>\n",
              "    <tr style=\"text-align: right;\">\n",
              "      <th></th>\n",
              "      <th>A</th>\n",
              "      <th>B</th>\n",
              "      <th>C</th>\n",
              "      <th>D</th>\n",
              "      <th>E</th>\n",
              "      <th>F</th>\n",
              "    </tr>\n",
              "  </thead>\n",
              "  <tbody>\n",
              "    <tr>\n",
              "      <th>0</th>\n",
              "      <td>1.0</td>\n",
              "      <td>2013-01-02</td>\n",
              "      <td>1.0</td>\n",
              "      <td>3</td>\n",
              "      <td>test</td>\n",
              "      <td>foo</td>\n",
              "    </tr>\n",
              "    <tr>\n",
              "      <th>1</th>\n",
              "      <td>1.0</td>\n",
              "      <td>2013-01-02</td>\n",
              "      <td>1.0</td>\n",
              "      <td>3</td>\n",
              "      <td>train</td>\n",
              "      <td>foo</td>\n",
              "    </tr>\n",
              "    <tr>\n",
              "      <th>2</th>\n",
              "      <td>1.0</td>\n",
              "      <td>2013-01-02</td>\n",
              "      <td>1.0</td>\n",
              "      <td>3</td>\n",
              "      <td>test</td>\n",
              "      <td>foo</td>\n",
              "    </tr>\n",
              "    <tr>\n",
              "      <th>3</th>\n",
              "      <td>1.0</td>\n",
              "      <td>2013-01-02</td>\n",
              "      <td>1.0</td>\n",
              "      <td>3</td>\n",
              "      <td>train</td>\n",
              "      <td>foo</td>\n",
              "    </tr>\n",
              "  </tbody>\n",
              "</table>\n",
              "</div>"
            ],
            "text/plain": [
              "     A          B    C  D      E    F\n",
              "0  1.0 2013-01-02  1.0  3   test  foo\n",
              "1  1.0 2013-01-02  1.0  3  train  foo\n",
              "2  1.0 2013-01-02  1.0  3   test  foo\n",
              "3  1.0 2013-01-02  1.0  3  train  foo"
            ]
          },
          "metadata": {
            "tags": []
          },
          "execution_count": 121
        }
      ]
    },
    {
      "metadata": {
        "id": "glFF1KxrqOP1",
        "colab_type": "text"
      },
      "cell_type": "markdown",
      "source": [
        "The columns of the resulting DataFrame have different dtypes."
      ]
    },
    {
      "metadata": {
        "id": "WFtHZpZpqR6C",
        "colab_type": "code",
        "outputId": "2a206538-8420-4a4b-b862-ec572368f584",
        "colab": {
          "base_uri": "https://localhost:8080/",
          "height": 136
        }
      },
      "cell_type": "code",
      "source": [
        "df2.dtypes"
      ],
      "execution_count": 0,
      "outputs": [
        {
          "output_type": "execute_result",
          "data": {
            "text/plain": [
              "A           float64\n",
              "B    datetime64[ns]\n",
              "C           float32\n",
              "D             int32\n",
              "E          category\n",
              "F            object\n",
              "dtype: object"
            ]
          },
          "metadata": {
            "tags": []
          },
          "execution_count": 122
        }
      ]
    },
    {
      "metadata": {
        "id": "hYMt-5zeqXUQ",
        "colab_type": "text"
      },
      "cell_type": "markdown",
      "source": [
        "If you’re using IPython, tab completion for column names (as well as public attributes) is automatically enabled. Here’s a subset of the attributes that will be completed:"
      ]
    },
    {
      "metadata": {
        "id": "93O4j3E1qfUI",
        "colab_type": "code",
        "colab": {}
      },
      "cell_type": "code",
      "source": [
        "df2.<TAB>"
      ],
      "execution_count": 0,
      "outputs": []
    },
    {
      "metadata": {
        "id": "Gf1oWf5Wqqth",
        "colab_type": "text"
      },
      "cell_type": "markdown",
      "source": [
        "As you can see, the columns A, B, C, and D are automatically tab completed. E is there as well; the rest of the attributes have been truncated for brevity."
      ]
    },
    {
      "metadata": {
        "id": "fzn6Gm8gqw85",
        "colab_type": "text"
      },
      "cell_type": "markdown",
      "source": [
        "## Viewing Data\n",
        "\n",
        "Here is how to view the top and bottom rows of the frame:"
      ]
    },
    {
      "metadata": {
        "id": "9eHlyw-zq1Ob",
        "colab_type": "code",
        "outputId": "cf70670a-cd17-4ac5-d7e4-ce43d3b4d33b",
        "colab": {
          "base_uri": "https://localhost:8080/",
          "height": 238
        }
      },
      "cell_type": "code",
      "source": [
        "df.head()"
      ],
      "execution_count": 0,
      "outputs": [
        {
          "output_type": "execute_result",
          "data": {
            "text/html": [
              "<div>\n",
              "<style scoped>\n",
              "    .dataframe tbody tr th:only-of-type {\n",
              "        vertical-align: middle;\n",
              "    }\n",
              "\n",
              "    .dataframe tbody tr th {\n",
              "        vertical-align: top;\n",
              "    }\n",
              "\n",
              "    .dataframe thead th {\n",
              "        text-align: right;\n",
              "    }\n",
              "</style>\n",
              "<table border=\"1\" class=\"dataframe\">\n",
              "  <thead>\n",
              "    <tr style=\"text-align: right;\">\n",
              "      <th></th>\n",
              "      <th>Year</th>\n",
              "      <th>Month</th>\n",
              "      <th>Day</th>\n",
              "      <th>Hour</th>\n",
              "      <th>Minute</th>\n",
              "      <th>Temperature  [2 m above gnd]</th>\n",
              "      <th>Total Precipitation  [sfc]</th>\n",
              "      <th>Wind Speed  [10 m above gnd]</th>\n",
              "      <th>Wind Direction  [10 m above gnd]</th>\n",
              "    </tr>\n",
              "  </thead>\n",
              "  <tbody>\n",
              "    <tr>\n",
              "      <th>0</th>\n",
              "      <td>2018</td>\n",
              "      <td>11</td>\n",
              "      <td>4</td>\n",
              "      <td>0</td>\n",
              "      <td>0</td>\n",
              "      <td>7.03</td>\n",
              "      <td>0.6</td>\n",
              "      <td>14.76</td>\n",
              "      <td>257.32</td>\n",
              "    </tr>\n",
              "    <tr>\n",
              "      <th>1</th>\n",
              "      <td>2018</td>\n",
              "      <td>11</td>\n",
              "      <td>4</td>\n",
              "      <td>1</td>\n",
              "      <td>0</td>\n",
              "      <td>7.05</td>\n",
              "      <td>0.2</td>\n",
              "      <td>14.49</td>\n",
              "      <td>255.62</td>\n",
              "    </tr>\n",
              "    <tr>\n",
              "      <th>2</th>\n",
              "      <td>2018</td>\n",
              "      <td>11</td>\n",
              "      <td>4</td>\n",
              "      <td>2</td>\n",
              "      <td>0</td>\n",
              "      <td>7.04</td>\n",
              "      <td>0.0</td>\n",
              "      <td>14.35</td>\n",
              "      <td>252.47</td>\n",
              "    </tr>\n",
              "    <tr>\n",
              "      <th>3</th>\n",
              "      <td>2018</td>\n",
              "      <td>11</td>\n",
              "      <td>4</td>\n",
              "      <td>3</td>\n",
              "      <td>0</td>\n",
              "      <td>6.49</td>\n",
              "      <td>0.0</td>\n",
              "      <td>16.10</td>\n",
              "      <td>259.70</td>\n",
              "    </tr>\n",
              "    <tr>\n",
              "      <th>4</th>\n",
              "      <td>2018</td>\n",
              "      <td>11</td>\n",
              "      <td>4</td>\n",
              "      <td>4</td>\n",
              "      <td>0</td>\n",
              "      <td>6.25</td>\n",
              "      <td>0.0</td>\n",
              "      <td>17.29</td>\n",
              "      <td>267.61</td>\n",
              "    </tr>\n",
              "  </tbody>\n",
              "</table>\n",
              "</div>"
            ],
            "text/plain": [
              "   Year  Month  Day  Hour  Minute  Temperature  [2 m above gnd]  \\\n",
              "0  2018     11    4     0       0                          7.03   \n",
              "1  2018     11    4     1       0                          7.05   \n",
              "2  2018     11    4     2       0                          7.04   \n",
              "3  2018     11    4     3       0                          6.49   \n",
              "4  2018     11    4     4       0                          6.25   \n",
              "\n",
              "   Total Precipitation  [sfc]  Wind Speed  [10 m above gnd]  \\\n",
              "0                         0.6                         14.76   \n",
              "1                         0.2                         14.49   \n",
              "2                         0.0                         14.35   \n",
              "3                         0.0                         16.10   \n",
              "4                         0.0                         17.29   \n",
              "\n",
              "   Wind Direction  [10 m above gnd]  \n",
              "0                            257.32  \n",
              "1                            255.62  \n",
              "2                            252.47  \n",
              "3                            259.70  \n",
              "4                            267.61  "
            ]
          },
          "metadata": {
            "tags": []
          },
          "execution_count": 123
        }
      ]
    },
    {
      "metadata": {
        "id": "Ijqg2_z0q899",
        "colab_type": "code",
        "outputId": "cb9b6e70-f8fa-4200-c500-ae59e7b02d8b",
        "colab": {
          "base_uri": "https://localhost:8080/",
          "height": 176
        }
      },
      "cell_type": "code",
      "source": [
        "df.tail(3)"
      ],
      "execution_count": 0,
      "outputs": [
        {
          "output_type": "execute_result",
          "data": {
            "text/html": [
              "<div>\n",
              "<style scoped>\n",
              "    .dataframe tbody tr th:only-of-type {\n",
              "        vertical-align: middle;\n",
              "    }\n",
              "\n",
              "    .dataframe tbody tr th {\n",
              "        vertical-align: top;\n",
              "    }\n",
              "\n",
              "    .dataframe thead th {\n",
              "        text-align: right;\n",
              "    }\n",
              "</style>\n",
              "<table border=\"1\" class=\"dataframe\">\n",
              "  <thead>\n",
              "    <tr style=\"text-align: right;\">\n",
              "      <th></th>\n",
              "      <th>Year</th>\n",
              "      <th>Month</th>\n",
              "      <th>Day</th>\n",
              "      <th>Hour</th>\n",
              "      <th>Minute</th>\n",
              "      <th>Temperature  [2 m above gnd]</th>\n",
              "      <th>Total Precipitation  [sfc]</th>\n",
              "      <th>Wind Speed  [10 m above gnd]</th>\n",
              "      <th>Wind Direction  [10 m above gnd]</th>\n",
              "    </tr>\n",
              "  </thead>\n",
              "  <tbody>\n",
              "    <tr>\n",
              "      <th>189</th>\n",
              "      <td>2018</td>\n",
              "      <td>11</td>\n",
              "      <td>11</td>\n",
              "      <td>21</td>\n",
              "      <td>0</td>\n",
              "      <td>-3.60</td>\n",
              "      <td>0.0</td>\n",
              "      <td>21.61</td>\n",
              "      <td>119.98</td>\n",
              "    </tr>\n",
              "    <tr>\n",
              "      <th>190</th>\n",
              "      <td>2018</td>\n",
              "      <td>11</td>\n",
              "      <td>11</td>\n",
              "      <td>22</td>\n",
              "      <td>0</td>\n",
              "      <td>-3.85</td>\n",
              "      <td>0.0</td>\n",
              "      <td>21.87</td>\n",
              "      <td>122.91</td>\n",
              "    </tr>\n",
              "    <tr>\n",
              "      <th>191</th>\n",
              "      <td>2018</td>\n",
              "      <td>11</td>\n",
              "      <td>11</td>\n",
              "      <td>23</td>\n",
              "      <td>0</td>\n",
              "      <td>-4.04</td>\n",
              "      <td>0.0</td>\n",
              "      <td>21.68</td>\n",
              "      <td>125.54</td>\n",
              "    </tr>\n",
              "  </tbody>\n",
              "</table>\n",
              "</div>"
            ],
            "text/plain": [
              "     Year  Month  Day  Hour  Minute  Temperature  [2 m above gnd]  \\\n",
              "189  2018     11   11    21       0                         -3.60   \n",
              "190  2018     11   11    22       0                         -3.85   \n",
              "191  2018     11   11    23       0                         -4.04   \n",
              "\n",
              "     Total Precipitation  [sfc]  Wind Speed  [10 m above gnd]  \\\n",
              "189                         0.0                         21.61   \n",
              "190                         0.0                         21.87   \n",
              "191                         0.0                         21.68   \n",
              "\n",
              "     Wind Direction  [10 m above gnd]  \n",
              "189                            119.98  \n",
              "190                            122.91  \n",
              "191                            125.54  "
            ]
          },
          "metadata": {
            "tags": []
          },
          "execution_count": 124
        }
      ]
    },
    {
      "metadata": {
        "id": "Vi6hwMllrD1g",
        "colab_type": "text"
      },
      "cell_type": "markdown",
      "source": [
        "Display the index, columns, and the underlying NumPy data:"
      ]
    },
    {
      "metadata": {
        "id": "WoLsYXrUq_6B",
        "colab_type": "code",
        "outputId": "3acce243-c1a6-4074-c5cc-2fac0de32c65",
        "colab": {
          "base_uri": "https://localhost:8080/",
          "height": 34
        }
      },
      "cell_type": "code",
      "source": [
        "df.index"
      ],
      "execution_count": 0,
      "outputs": [
        {
          "output_type": "execute_result",
          "data": {
            "text/plain": [
              "RangeIndex(start=0, stop=192, step=1)"
            ]
          },
          "metadata": {
            "tags": []
          },
          "execution_count": 125
        }
      ]
    },
    {
      "metadata": {
        "id": "bSBPYpF-rN02",
        "colab_type": "code",
        "outputId": "e2a1ad13-e3df-4097-ba33-bca52851940c",
        "colab": {
          "base_uri": "https://localhost:8080/",
          "height": 85
        }
      },
      "cell_type": "code",
      "source": [
        "df.columns"
      ],
      "execution_count": 0,
      "outputs": [
        {
          "output_type": "execute_result",
          "data": {
            "text/plain": [
              "Index(['Year', 'Month', 'Day', 'Hour', 'Minute',\n",
              "       'Temperature  [2 m above gnd]', 'Total Precipitation  [sfc]',\n",
              "       'Wind Speed  [10 m above gnd]', 'Wind Direction  [10 m above gnd]'],\n",
              "      dtype='object')"
            ]
          },
          "metadata": {
            "tags": []
          },
          "execution_count": 126
        }
      ]
    },
    {
      "metadata": {
        "id": "g0Rd45yCrIJT",
        "colab_type": "code",
        "outputId": "2e4d8e62-d7e5-4e42-e1ac-4bd1450715d9",
        "colab": {
          "base_uri": "https://localhost:8080/",
          "height": 238
        }
      },
      "cell_type": "code",
      "source": [
        "df.values"
      ],
      "execution_count": 0,
      "outputs": [
        {
          "output_type": "execute_result",
          "data": {
            "text/plain": [
              "array([[2.0180e+03, 1.1000e+01, 4.0000e+00, ..., 6.0000e-01, 1.4760e+01,\n",
              "        2.5732e+02],\n",
              "       [2.0180e+03, 1.1000e+01, 4.0000e+00, ..., 2.0000e-01, 1.4490e+01,\n",
              "        2.5562e+02],\n",
              "       [2.0180e+03, 1.1000e+01, 4.0000e+00, ..., 0.0000e+00, 1.4350e+01,\n",
              "        2.5247e+02],\n",
              "       ...,\n",
              "       [2.0180e+03, 1.1000e+01, 1.1000e+01, ..., 0.0000e+00, 2.1610e+01,\n",
              "        1.1998e+02],\n",
              "       [2.0180e+03, 1.1000e+01, 1.1000e+01, ..., 0.0000e+00, 2.1870e+01,\n",
              "        1.2291e+02],\n",
              "       [2.0180e+03, 1.1000e+01, 1.1000e+01, ..., 0.0000e+00, 2.1680e+01,\n",
              "        1.2554e+02]])"
            ]
          },
          "metadata": {
            "tags": []
          },
          "execution_count": 127
        }
      ]
    },
    {
      "metadata": {
        "id": "ah89js-vrVRe",
        "colab_type": "text"
      },
      "cell_type": "markdown",
      "source": [
        "describe() shows a quick statistic summary of your data:"
      ]
    },
    {
      "metadata": {
        "id": "hZG0ZsljrWOB",
        "colab_type": "code",
        "outputId": "8008f662-d060-481c-ac57-1ee941d0719b",
        "colab": {
          "base_uri": "https://localhost:8080/",
          "height": 365
        }
      },
      "cell_type": "code",
      "source": [
        "df.describe()"
      ],
      "execution_count": 0,
      "outputs": [
        {
          "output_type": "execute_result",
          "data": {
            "text/html": [
              "<div>\n",
              "<style scoped>\n",
              "    .dataframe tbody tr th:only-of-type {\n",
              "        vertical-align: middle;\n",
              "    }\n",
              "\n",
              "    .dataframe tbody tr th {\n",
              "        vertical-align: top;\n",
              "    }\n",
              "\n",
              "    .dataframe thead th {\n",
              "        text-align: right;\n",
              "    }\n",
              "</style>\n",
              "<table border=\"1\" class=\"dataframe\">\n",
              "  <thead>\n",
              "    <tr style=\"text-align: right;\">\n",
              "      <th></th>\n",
              "      <th>Year</th>\n",
              "      <th>Month</th>\n",
              "      <th>Day</th>\n",
              "      <th>Hour</th>\n",
              "      <th>Minute</th>\n",
              "      <th>Temperature  [2 m above gnd]</th>\n",
              "      <th>Total Precipitation  [sfc]</th>\n",
              "      <th>Wind Speed  [10 m above gnd]</th>\n",
              "      <th>Wind Direction  [10 m above gnd]</th>\n",
              "    </tr>\n",
              "  </thead>\n",
              "  <tbody>\n",
              "    <tr>\n",
              "      <th>count</th>\n",
              "      <td>192.0</td>\n",
              "      <td>192.0</td>\n",
              "      <td>192.000000</td>\n",
              "      <td>192.000000</td>\n",
              "      <td>192.0</td>\n",
              "      <td>192.000000</td>\n",
              "      <td>192.000000</td>\n",
              "      <td>192.000000</td>\n",
              "      <td>192.000000</td>\n",
              "    </tr>\n",
              "    <tr>\n",
              "      <th>mean</th>\n",
              "      <td>2018.0</td>\n",
              "      <td>11.0</td>\n",
              "      <td>7.500000</td>\n",
              "      <td>11.500000</td>\n",
              "      <td>0.0</td>\n",
              "      <td>2.961406</td>\n",
              "      <td>0.004167</td>\n",
              "      <td>11.575833</td>\n",
              "      <td>189.998958</td>\n",
              "    </tr>\n",
              "    <tr>\n",
              "      <th>std</th>\n",
              "      <td>0.0</td>\n",
              "      <td>0.0</td>\n",
              "      <td>2.297278</td>\n",
              "      <td>6.940284</td>\n",
              "      <td>0.0</td>\n",
              "      <td>2.814121</td>\n",
              "      <td>0.045572</td>\n",
              "      <td>7.412555</td>\n",
              "      <td>84.645082</td>\n",
              "    </tr>\n",
              "    <tr>\n",
              "      <th>min</th>\n",
              "      <td>2018.0</td>\n",
              "      <td>11.0</td>\n",
              "      <td>4.000000</td>\n",
              "      <td>0.000000</td>\n",
              "      <td>0.0</td>\n",
              "      <td>-4.040000</td>\n",
              "      <td>0.000000</td>\n",
              "      <td>1.800000</td>\n",
              "      <td>35.540000</td>\n",
              "    </tr>\n",
              "    <tr>\n",
              "      <th>25%</th>\n",
              "      <td>2018.0</td>\n",
              "      <td>11.0</td>\n",
              "      <td>5.750000</td>\n",
              "      <td>5.750000</td>\n",
              "      <td>0.0</td>\n",
              "      <td>1.740000</td>\n",
              "      <td>0.000000</td>\n",
              "      <td>6.350000</td>\n",
              "      <td>99.112500</td>\n",
              "    </tr>\n",
              "    <tr>\n",
              "      <th>50%</th>\n",
              "      <td>2018.0</td>\n",
              "      <td>11.0</td>\n",
              "      <td>7.500000</td>\n",
              "      <td>11.500000</td>\n",
              "      <td>0.0</td>\n",
              "      <td>2.975000</td>\n",
              "      <td>0.000000</td>\n",
              "      <td>8.660000</td>\n",
              "      <td>218.985000</td>\n",
              "    </tr>\n",
              "    <tr>\n",
              "      <th>75%</th>\n",
              "      <td>2018.0</td>\n",
              "      <td>11.0</td>\n",
              "      <td>9.250000</td>\n",
              "      <td>17.250000</td>\n",
              "      <td>0.0</td>\n",
              "      <td>4.712500</td>\n",
              "      <td>0.000000</td>\n",
              "      <td>16.345000</td>\n",
              "      <td>270.297500</td>\n",
              "    </tr>\n",
              "    <tr>\n",
              "      <th>max</th>\n",
              "      <td>2018.0</td>\n",
              "      <td>11.0</td>\n",
              "      <td>11.000000</td>\n",
              "      <td>23.000000</td>\n",
              "      <td>0.0</td>\n",
              "      <td>9.330000</td>\n",
              "      <td>0.600000</td>\n",
              "      <td>30.120000</td>\n",
              "      <td>360.000000</td>\n",
              "    </tr>\n",
              "  </tbody>\n",
              "</table>\n",
              "</div>"
            ],
            "text/plain": [
              "         Year  Month         Day        Hour  Minute  \\\n",
              "count   192.0  192.0  192.000000  192.000000   192.0   \n",
              "mean   2018.0   11.0    7.500000   11.500000     0.0   \n",
              "std       0.0    0.0    2.297278    6.940284     0.0   \n",
              "min    2018.0   11.0    4.000000    0.000000     0.0   \n",
              "25%    2018.0   11.0    5.750000    5.750000     0.0   \n",
              "50%    2018.0   11.0    7.500000   11.500000     0.0   \n",
              "75%    2018.0   11.0    9.250000   17.250000     0.0   \n",
              "max    2018.0   11.0   11.000000   23.000000     0.0   \n",
              "\n",
              "       Temperature  [2 m above gnd]  Total Precipitation  [sfc]  \\\n",
              "count                    192.000000                  192.000000   \n",
              "mean                       2.961406                    0.004167   \n",
              "std                        2.814121                    0.045572   \n",
              "min                       -4.040000                    0.000000   \n",
              "25%                        1.740000                    0.000000   \n",
              "50%                        2.975000                    0.000000   \n",
              "75%                        4.712500                    0.000000   \n",
              "max                        9.330000                    0.600000   \n",
              "\n",
              "       Wind Speed  [10 m above gnd]  Wind Direction  [10 m above gnd]  \n",
              "count                    192.000000                        192.000000  \n",
              "mean                      11.575833                        189.998958  \n",
              "std                        7.412555                         84.645082  \n",
              "min                        1.800000                         35.540000  \n",
              "25%                        6.350000                         99.112500  \n",
              "50%                        8.660000                        218.985000  \n",
              "75%                       16.345000                        270.297500  \n",
              "max                       30.120000                        360.000000  "
            ]
          },
          "metadata": {
            "tags": []
          },
          "execution_count": 128
        }
      ]
    },
    {
      "metadata": {
        "id": "KIPdOl1Sm9zT",
        "colab_type": "text"
      },
      "cell_type": "markdown",
      "source": [
        "# seaborn: statistical data visualization\n",
        "\n",
        "Seaborn is a Python data visualization library based on matplotlib. It provides a high-level interface for drawing attractive and informative statistical graphics."
      ]
    },
    {
      "metadata": {
        "id": "3p__Ek49mog_",
        "colab_type": "code",
        "outputId": "97bf024b-f7ba-47f8-f505-d32d45666864",
        "colab": {
          "base_uri": "https://localhost:8080/",
          "height": 454
        }
      },
      "cell_type": "code",
      "source": [
        "import numpy as np\n",
        "import seaborn as sns\n",
        "sns.set(style=\"ticks\")\n",
        "\n",
        "rs = np.random.RandomState(11)\n",
        "x = rs.gamma(2, size=1000)\n",
        "y = -.5 * x + rs.normal(size=1000)\n",
        "\n",
        "sns.jointplot(x, y, kind=\"hex\", color=\"#4CB391\")"
      ],
      "execution_count": 0,
      "outputs": [
        {
          "output_type": "execute_result",
          "data": {
            "text/plain": [
              "<seaborn.axisgrid.JointGrid at 0x7f15510c3240>"
            ]
          },
          "metadata": {
            "tags": []
          },
          "execution_count": 47
        },
        {
          "output_type": "display_data",
          "data": {
            "image/png": "[encoded data removed]",
            "text/plain": [
              "<matplotlib.figure.Figure at 0x7f15510c3c88>"
            ]
          },
          "metadata": {
            "tags": []
          }
        }
      ]
    },
    {
      "metadata": {
        "id": "HhNYsrIKnTN8",
        "colab_type": "code",
        "outputId": "c477387c-969f-4d87-c04e-741531879038",
        "colab": {
          "base_uri": "https://localhost:8080/",
          "height": 405
        }
      },
      "cell_type": "code",
      "source": [
        "import matplotlib.pyplot as plt\n",
        "import seaborn as sns\n",
        "sns.set()\n",
        "\n",
        "# Load the example flights dataset and conver to long-form\n",
        "flights_long = sns.load_dataset(\"flights\")\n",
        "flights = flights_long.pivot(\"month\", \"year\", \"passengers\")\n",
        "\n",
        "# Draw a heatmap with the numeric values in each cell\n",
        "f, ax = plt.subplots(figsize=(9, 6))\n",
        "sns.heatmap(flights, annot=True, fmt=\"d\", linewidths=.5, ax=ax)"
      ],
      "execution_count": 0,
      "outputs": [
        {
          "output_type": "execute_result",
          "data": {
            "text/plain": [
              "<matplotlib.axes._subplots.AxesSubplot at 0x7f1550f22470>"
            ]
          },
          "metadata": {
            "tags": []
          },
          "execution_count": 48
        },
        {
          "output_type": "display_data",
          "data": {
            "image/png": "[encoded data removed]",
            "text/plain": [
              "<matplotlib.figure.Figure at 0x7f1550f02470>"
            ]
          },
          "metadata": {
            "tags": []
          }
        }
      ]
    }
  ]
}