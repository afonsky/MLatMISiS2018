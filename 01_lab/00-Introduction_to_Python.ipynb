{
  "nbformat": 4,
  "nbformat_minor": 0,
  "metadata": {
    "colab": {
      "name": "Introduction to Python.ipynb",
      "version": "0.3.2",
      "provenance": [],
      "toc_visible": true,
      "include_colab_link": true
    },
    "kernelspec": {
      "name": "python3",
      "display_name": "Python 3"
    }
  },
  "cells": [
    {
      "cell_type": "markdown",
      "metadata": {
        "id": "view-in-github",
        "colab_type": "text"
      },
      "source": [
        "<a href=\"https://colab.research.google.com/github/yandexdataschool/MLatMISiS2018/blob/master/01_lab/00-Introduction_to_Python.ipynb\" target=\"_parent\"><img src=\"https://colab.research.google.com/assets/colab-badge.svg\" alt=\"Open In Colab\"/></a>"
      ]
    },
    {
      "metadata": {
        "id": "J8Qej4eV_aUo",
        "colab_type": "toc"
      },
      "cell_type": "markdown",
      "source": [
        ">[What is Python?](#scrollTo=a8Y4WlA4zijO)\n",
        "\n",
        ">>[Python interpreter](#scrollTo=LRyoLkE230p6)\n",
        "\n",
        ">>[IPython](#scrollTo=Agcq0nG49JxP)\n",
        "\n",
        ">>[Jupyter notebook](#scrollTo=zWI1ypD96S1k)\n",
        "\n",
        ">>[Python versions](#scrollTo=5DOBtEb3XBw7)\n",
        "\n",
        ">[Welcome to Jupyter Notebooks!](#scrollTo=LDw7MgHKxVkU)\n",
        "\n",
        ">>[Let's get to it](#scrollTo=DbiTQ6BR-d8X)\n",
        "\n",
        ">[Basics](#scrollTo=K3Co4QxLVE_A)\n",
        "\n",
        ">>[Basic syntax](#scrollTo=STNjycE4sDPW)\n",
        "\n",
        ">>[Data Types in Python](#scrollTo=6iOvINX5uYKF)\n",
        "\n",
        ">>[Operators](#scrollTo=qEpYEs13z7Aj)\n",
        "\n",
        ">>[Arithmetic operators](#scrollTo=eKers2Yq0MKr)\n",
        "\n",
        ">>[Relational operators](#scrollTo=p_ak9OeN1KPm)\n",
        "\n",
        ">>[Boolean and bitwise operators](#scrollTo=JmCJ49Gi2Jah)\n",
        "\n",
        ">>[More examples of data types and operators:](#scrollTo=8I3_fvq_yo4Y)\n",
        "\n",
        ">[Exercises](#scrollTo=Fxv6sPbprukR)\n",
        "\n",
        ">>>[Exercise 1.1](#scrollTo=OKpU0kauWlCX)\n",
        "\n",
        ">>>[Exercise 1.2](#scrollTo=w3-J1a-0a785)\n",
        "\n",
        ">>>[Exercise 1.3](#scrollTo=M6WjpCbtbjm_)\n",
        "\n",
        ">>>[Exercise 1.4](#scrollTo=2h9WZaZ5c5R-)\n",
        "\n",
        ">>>[Exercise 1.5](#scrollTo=72n2Z1BVdQ4_)\n",
        "\n",
        ">>>[Exercise 1.6 (Homework)](#scrollTo=aRE8jfD-dmM7)\n",
        "\n",
        ">[References](#scrollTo=Fi6TMSDIePAj)\n",
        "\n"
      ]
    },
    {
      "metadata": {
        "id": "a8Y4WlA4zijO",
        "colab_type": "text"
      },
      "cell_type": "markdown",
      "source": [
        "# What is Python?\n",
        "\n",
        "\n",
        "[Python](https://python.org) is a modern, general-purpose, object-oriented, high-level programming language.\n",
        "\n",
        "General characteristics of Python:\n",
        "\n",
        "*   **clean and simple language:** Easy-to-read and intuitive code, easy-to-learn minimalistic syntax, maintainability scales well with size of projects\n",
        "*   **expressive language:** Fewer lines of code, fewer bugs, easier to maintain\n",
        "\n",
        "\n",
        "Technical details:\n",
        "\n",
        "*    **dynamically typed:** No need to define the type of variables, function arguments or return types\n",
        "*   **automatic memory management:** No need to explicitly allocate and deallocate memory for variables and data arrays. No memory leak bugs\n",
        "*  **interpreted:** No need to compile the code. The python interpreter reads and executes the python code directly\n",
        "\n",
        "\n",
        "Advantages:\n",
        "\n",
        "* The main advantage is ease of programming, minimizing the time required to develop, debug and maintain the code\n",
        "* Well designed language that encourage many good programming practices:\n",
        " *  Modular and object-oriented programming, good system for packaging and re-use of code. This often results in more transparent, maintainable and bug-free code\n",
        " * Documentation tightly integrated with the code\n",
        "* A large standard library, and a large collection of add-on packages\n",
        "\n",
        "\n",
        "Disadvantages:\n",
        "\n",
        "*    Since Python is an interpreted and dynamically typed programming language, the execution of python code **can be slow** compared to compiled statically typed programming languages, such as C and Fortran (see Bonus part at the end of this seminar)\n",
        "*    Somewhat **decentralized**, with different environment, packages and documentation spread out at different places. Can make it harder to get started\n",
        "\n",
        "\n"
      ]
    },
    {
      "metadata": {
        "id": "LRyoLkE230p6",
        "colab_type": "text"
      },
      "cell_type": "markdown",
      "source": [
        "## Python interpreter\n",
        "\n",
        "\n",
        "The standard way to use the Python programming language is to use the python interpreter to run python code. The python interpreter is a program that reads and execute the python code in files passed to it as arguments. At the command prompt, the command python is used to invoke the python interpreter.\n",
        "\n",
        "For example, to run a file my-program.py that contains python code from the command prompt, use:\n",
        "\n",
        "```\n",
        "$ python my-program.py\n",
        "```\n",
        "\n",
        "We can also start the interpreter by simply typing python at the command line, and interactively type python code into the interpreter:"
      ]
    },
    {
      "metadata": {
        "colab_type": "text",
        "id": "Agcq0nG49JxP"
      },
      "cell_type": "markdown",
      "source": [
        "## IPython\n",
        "\n",
        "IPython is an interactive shell that addresses the limitation of the standard python interpreter, and it is a work-horse for scientific use of Python. It provides an interactive prompt to the python interpreter with a greatly improved user-friendliness.\n",
        "\n",
        "Some of the many useful features of IPython includes:\n",
        "\n",
        "* Command history, which can be browsed with the up and down arrows on the keyboard\n",
        "* Tab auto-completion\n",
        "* In-line editing of code\n",
        "* Object introspection, and automatic extract of documentation strings from python objects like classes and functions\n",
        "* Good interaction with operating system shell\n",
        "* Support for multiple parallel back-end processes, that can run on computing clusters or cloud services like Amazon EC2\n"
      ]
    },
    {
      "metadata": {
        "id": "zWI1ypD96S1k",
        "colab_type": "text"
      },
      "cell_type": "markdown",
      "source": [
        "## Jupyter notebook\n",
        "[Jupyter notebook](https://jupyter.org/) (formerly known as the IPython notebook) is an HTML-based notebook environment for Python (but [not only](https://github.com/jupyter/jupyter/wiki/Jupyter-kernels)), similar to Mathematica or Maple. It is based on the IPython shell, but provides a cell-based environment with great interactivity, where calculations can be organized and documented in a structured way.\n",
        "\n"
      ]
    },
    {
      "metadata": {
        "id": "5DOBtEb3XBw7",
        "colab_type": "text"
      },
      "cell_type": "markdown",
      "source": [
        "## Python versions\n",
        "\n",
        "There are currently two versions of python: Python 2 and Python 3. Python 3 will eventually supercede Python 2, but it is not backward-compatible with Python 2. A lot of existing python code and packages has been written for Python 2, and it is still the most wide-spread version. For these lectures either version will be fine, but it is probably easier to stick with Python 2 for now, because it is more readily available via prebuilt packages and binary installers.\n",
        "\n",
        "To see which version of Python you have, run:\n",
        "\n",
        "```\n",
        "$ python --version\n",
        "Python 2.7.13\n",
        "$ python3 --version\n",
        "Python 3.4.9\n",
        "```\n",
        "\n",
        "Several versions of Python can be installed in parallel, as shown above.\n"
      ]
    },
    {
      "metadata": {
        "id": "LDw7MgHKxVkU",
        "colab_type": "text"
      },
      "cell_type": "markdown",
      "source": [
        "\n",
        "# Welcome to Jupyter Notebooks!\n",
        "\n",
        "Notebooks are interactive documents, almost like web pages, where you can easily combine text, pictures, code and data in a very user friendly manner. You can easily use them for a wide variety of things. Let's take a look at some of their features.\n",
        "\n",
        "**Note**: for this seminar we are using [Google Colab](https://colab.research.google.com) platform. But it can vary.\n",
        "We will use Python 3 in this Seminar. But in case you can change it using *Runtime* menu: *Runtime $\\rightarrow$ Change runtime type*.\n"
      ]
    },
    {
      "metadata": {
        "id": "DbiTQ6BR-d8X",
        "colab_type": "text"
      },
      "cell_type": "markdown",
      "source": [
        "## **Let's get to it**\n",
        "\n",
        "As you can see, this document is made from **cells**. These cells may contain either code (in the language used by the current kernel) or text (markdown, which also understands HTML-code). CODE and TEXT buttons at the top left (in particular this interface) will create code and text cells, accordingly. You're welcome to use shortcuts (just press Ctrl+M) instead of pressing butons.\n",
        "\n",
        "In Jupyter, each block of code is in its own cell, which you can run by selecting the cell and pressing *Ctrl + Enter*.\n",
        "You also can run code in multiple cells: go to *Runtime* menu item and use *Run all* or *Run after* items (this interface).\n",
        "\n",
        "If you wish to save your work, you can download the file as it currently is via *File $\\rightarrow$ Download .ipynb*. That file can then later on be uploaded to a new workspace and you can carry on with it."
      ]
    },
    {
      "metadata": {
        "id": "K3Co4QxLVE_A",
        "colab_type": "text"
      },
      "cell_type": "markdown",
      "source": [
        "# Basics"
      ]
    },
    {
      "metadata": {
        "id": "F6PKGXJsr2o1",
        "colab_type": "code",
        "colab": {}
      },
      "cell_type": "code",
      "source": [
        "import this"
      ],
      "execution_count": 0,
      "outputs": []
    },
    {
      "metadata": {
        "id": "STNjycE4sDPW",
        "colab_type": "text"
      },
      "cell_type": "markdown",
      "source": [
        "## Basic syntax"
      ]
    },
    {
      "metadata": {
        "id": "utbTe5zZtYdv",
        "colab_type": "text"
      },
      "cell_type": "markdown",
      "source": [
        "The basic rules for writing simple statments and expressions in Python are:\n",
        "\n",
        "* No spaces or tab characters allowed at the start of a statement: Indentation plays a special role in Python. For now simply ensure that all statements start at the beginning of the line.\n",
        "* The '#' character indicates that the rest of the line is a comment\n",
        "* Statements finish at the end of the line"
      ]
    },
    {
      "metadata": {
        "id": "6iOvINX5uYKF",
        "colab_type": "text"
      },
      "cell_type": "markdown",
      "source": [
        "## Data Types in Python"
      ]
    },
    {
      "metadata": {
        "id": "WC4_0diqyVDk",
        "colab_type": "text"
      },
      "cell_type": "markdown",
      "source": [
        "A name that is used to denote something or a value is called a variable. In python, variables can be declared and values can be assigned to it as follows:"
      ]
    },
    {
      "metadata": {
        "id": "VVglXr-Uyez4",
        "colab_type": "code",
        "colab": {}
      },
      "cell_type": "code",
      "source": [
        "x = 2          # anything after a '#' is a comment\n",
        "y = 5\n",
        "xy = 'Hey'\n",
        "print(x+y, xy) # not really necessary as the last value in a bit of code is displayed by default"
      ],
      "execution_count": 0,
      "outputs": []
    },
    {
      "metadata": {
        "id": "ooq9lr9iy4SV",
        "colab_type": "text"
      },
      "cell_type": "markdown",
      "source": [
        "Multiple variables can be assigned with the same value.\n"
      ]
    },
    {
      "metadata": {
        "id": "BbP778ooy7Zw",
        "colab_type": "code",
        "colab": {}
      },
      "cell_type": "code",
      "source": [
        "x = y = 1"
      ],
      "execution_count": 0,
      "outputs": []
    },
    {
      "metadata": {
        "id": "Us7WXFqxzBQL",
        "colab_type": "text"
      },
      "cell_type": "markdown",
      "source": [
        "The basic types build into Python include *float* (floating point numbers), *int* (integers), *str* (unicode character strings) and *bool* (boolean). Some examples of each:\n"
      ]
    },
    {
      "metadata": {
        "id": "5UokLnaUzIZZ",
        "colab_type": "code",
        "colab": {}
      },
      "cell_type": "code",
      "source": [
        "2.0           # a simple floating point number\n",
        "1e100         # a googol \n",
        "-1234567890   # an integer\n",
        "True or False # the two possible boolean values\n",
        "'This is a string'\n",
        "\"It's another string\"\n",
        "print(\"\"\"Triple quotes (also with '''), allow strings to break over multiple lines.\n",
        "Alternatively \\n is a newline character (\\t for tab, \\\\ is a single backslash)\"\"\")"
      ],
      "execution_count": 0,
      "outputs": []
    },
    {
      "metadata": {
        "id": "L6xLtIk7a9My",
        "colab_type": "text"
      },
      "cell_type": "markdown",
      "source": [
        "Introducing *dictionaries*. Dictionaries are a sort of 'associative arrays' where a set of values can be kept under a set of keys. Dictionaries map keys to values."
      ]
    },
    {
      "metadata": {
        "id": "tg1W24A0bKRQ",
        "colab_type": "code",
        "colab": {
          "base_uri": "https://localhost:8080/",
          "height": 35
        },
        "outputId": "ddf38827-4572-4a16-bacf-7124aa51b0da"
      },
      "cell_type": "code",
      "source": [
        "x = dict(a=1,b='hi',some_other_key_name=[1,2,3])\n",
        "x"
      ],
      "execution_count": 1,
      "outputs": [
        {
          "output_type": "execute_result",
          "data": {
            "text/plain": [
              "{'a': 1, 'b': 'hi', 'some_other_key_name': [1, 2, 3]}"
            ]
          },
          "metadata": {
            "tags": []
          },
          "execution_count": 1
        }
      ]
    },
    {
      "metadata": {
        "id": "hCKY9L7GbtIY",
        "colab_type": "code",
        "colab": {
          "base_uri": "https://localhost:8080/",
          "height": 35
        },
        "outputId": "dc9bd5f8-fc9f-4c8f-e390-3570def1c63b"
      },
      "cell_type": "code",
      "source": [
        "y = {'key 1' : 'value 1', 3 : x} # as you can see dictionaries can be nested as well\n",
        "y"
      ],
      "execution_count": 4,
      "outputs": [
        {
          "output_type": "execute_result",
          "data": {
            "text/plain": [
              "{3: {'a': 1, 'b': 'hi', 'some_other_key_name': [1, 2, 3]}, 'key 1': 'value 1'}"
            ]
          },
          "metadata": {
            "tags": []
          },
          "execution_count": 4
        }
      ]
    },
    {
      "metadata": {
        "id": "8y39jOF7bu67",
        "colab_type": "code",
        "colab": {
          "base_uri": "https://localhost:8080/",
          "height": 35
        },
        "outputId": "763ec342-034d-42bd-ea3c-ac0ba1cb2acd"
      },
      "cell_type": "code",
      "source": [
        "x['a']"
      ],
      "execution_count": 3,
      "outputs": [
        {
          "output_type": "execute_result",
          "data": {
            "text/plain": [
              "1"
            ]
          },
          "metadata": {
            "tags": []
          },
          "execution_count": 3
        }
      ]
    },
    {
      "metadata": {
        "id": "pPAJNOxabxRR",
        "colab_type": "code",
        "colab": {
          "base_uri": "https://localhost:8080/",
          "height": 35
        },
        "outputId": "c5be25b1-b16d-42ba-a56f-64e77247a18f"
      },
      "cell_type": "code",
      "source": [
        "x['some_other_key_name']"
      ],
      "execution_count": 5,
      "outputs": [
        {
          "output_type": "execute_result",
          "data": {
            "text/plain": [
              "[1, 2, 3]"
            ]
          },
          "metadata": {
            "tags": []
          },
          "execution_count": 5
        }
      ]
    },
    {
      "metadata": {
        "id": "TJgZJ5Vkb1gm",
        "colab_type": "code",
        "colab": {
          "base_uri": "https://localhost:8080/",
          "height": 35
        },
        "outputId": "9023a7b0-f574-468b-99ac-8eaa90848697"
      },
      "cell_type": "code",
      "source": [
        "y[3]"
      ],
      "execution_count": 6,
      "outputs": [
        {
          "output_type": "execute_result",
          "data": {
            "text/plain": [
              "{'a': 1, 'b': 'hi', 'some_other_key_name': [1, 2, 3]}"
            ]
          },
          "metadata": {
            "tags": []
          },
          "execution_count": 6
        }
      ]
    },
    {
      "metadata": {
        "id": "696Hfm3Vb4Uf",
        "colab_type": "code",
        "colab": {
          "base_uri": "https://localhost:8080/",
          "height": 35
        },
        "outputId": "7d797319-2ad0-4b11-e454-96b781f91f92"
      },
      "cell_type": "code",
      "source": [
        "type(x)"
      ],
      "execution_count": 7,
      "outputs": [
        {
          "output_type": "execute_result",
          "data": {
            "text/plain": [
              "dict"
            ]
          },
          "metadata": {
            "tags": []
          },
          "execution_count": 7
        }
      ]
    },
    {
      "metadata": {
        "id": "5Nc4qiifb6Pd",
        "colab_type": "code",
        "colab": {
          "base_uri": "https://localhost:8080/",
          "height": 35
        },
        "outputId": "d1ca93a6-86af-46a9-e29c-8729934e0bc4"
      },
      "cell_type": "code",
      "source": [
        "type(y)"
      ],
      "execution_count": 8,
      "outputs": [
        {
          "output_type": "execute_result",
          "data": {
            "text/plain": [
              "dict"
            ]
          },
          "metadata": {
            "tags": []
          },
          "execution_count": 8
        }
      ]
    },
    {
      "metadata": {
        "id": "qEpYEs13z7Aj",
        "colab_type": "text"
      },
      "cell_type": "markdown",
      "source": [
        "## Operators"
      ]
    },
    {
      "metadata": {
        "id": "eKers2Yq0MKr",
        "colab_type": "text"
      },
      "cell_type": "markdown",
      "source": [
        "## Arithmetic operators"
      ]
    },
    {
      "metadata": {
        "id": "fgxfvKqF0ScI",
        "colab_type": "code",
        "colab": {}
      },
      "cell_type": "code",
      "source": [
        "1 + 2    # addition\n",
        "3 - 2    # subtraction\n",
        "3 * 4    # multiplication\n",
        "2.0 / 3  # division\n",
        "3 // 4.0 # floor division\n",
        "15 % 10  # mod\n",
        "2**(0.5) # to the power of"
      ],
      "execution_count": 0,
      "outputs": []
    },
    {
      "metadata": {
        "id": "p_ak9OeN1KPm",
        "colab_type": "text"
      },
      "cell_type": "markdown",
      "source": [
        "## Relational operators"
      ]
    },
    {
      "metadata": {
        "id": "BWAIYVwY1fIN",
        "colab_type": "code",
        "colab": {}
      },
      "cell_type": "code",
      "source": [
        "x = 2         # assignment\n",
        "y == 3        # equality test\n",
        "z < 5         # less than\n",
        "k >= 0        # greater than or equal to\n",
        "0.5 < a <= 6  # comaprisons"
      ],
      "execution_count": 0,
      "outputs": []
    },
    {
      "metadata": {
        "id": "JmCJ49Gi2Jah",
        "colab_type": "text"
      },
      "cell_type": "markdown",
      "source": [
        "## Boolean and bitwise operators"
      ]
    },
    {
      "metadata": {
        "id": "v4FyPWbw2SQF",
        "colab_type": "code",
        "colab": {}
      },
      "cell_type": "code",
      "source": [
        "a = 2 #binary: 10\n",
        "b = 3 #binary: 11\n",
        "print('a & b =',a & b,\"=\",bin(a&b))\n",
        "print('a | b =',a | b,\"=\",bin(a|b))\n",
        "print('a ^ b =',a ^ b,\"=\",bin(a^b))"
      ],
      "execution_count": 0,
      "outputs": []
    },
    {
      "metadata": {
        "id": "la0u32iB2ijZ",
        "colab_type": "code",
        "colab": {}
      },
      "cell_type": "code",
      "source": [
        "print( not (True and False), \"==\", not True or not False)"
      ],
      "execution_count": 0,
      "outputs": []
    },
    {
      "metadata": {
        "id": "8I3_fvq_yo4Y",
        "colab_type": "text"
      },
      "cell_type": "markdown",
      "source": [
        "## More examples of data types and operators:"
      ]
    },
    {
      "metadata": {
        "id": "mpI-p0QrrNj-",
        "colab_type": "code",
        "outputId": "292335d9-fe65-47fb-f8af-753cf7244063",
        "colab": {
          "base_uri": "https://localhost:8080/",
          "height": 34
        }
      },
      "cell_type": "code",
      "source": [
        "\"Hello\" + \" world\""
      ],
      "execution_count": 0,
      "outputs": [
        {
          "output_type": "execute_result",
          "data": {
            "text/plain": [
              "'Hello world'"
            ]
          },
          "metadata": {
            "tags": []
          },
          "execution_count": 4
        }
      ]
    },
    {
      "metadata": {
        "id": "arfxvdbNrP59",
        "colab_type": "code",
        "outputId": "56c585f4-5159-4d51-d586-acb166f57090",
        "colab": {
          "base_uri": "https://localhost:8080/",
          "height": 34
        }
      },
      "cell_type": "code",
      "source": [
        "type(\"Hello\")"
      ],
      "execution_count": 0,
      "outputs": [
        {
          "output_type": "execute_result",
          "data": {
            "text/plain": [
              "str"
            ]
          },
          "metadata": {
            "tags": []
          },
          "execution_count": 5
        }
      ]
    },
    {
      "metadata": {
        "id": "CuOg7djlrS3d",
        "colab_type": "code",
        "outputId": "be59abcb-956b-4b60-d901-e4f784dc4ffe",
        "colab": {
          "base_uri": "https://localhost:8080/",
          "height": 119
        }
      },
      "cell_type": "code",
      "source": [
        "print(\"Print\")\n",
        "print(\"several\")\n",
        "print(\"lines\")\n",
        "print(\"in\")\n",
        "print(\"one\")\n",
        "print(\"cell!\")"
      ],
      "execution_count": 0,
      "outputs": [
        {
          "output_type": "stream",
          "text": [
            "Print\n",
            "several\n",
            "lines\n",
            "in\n",
            "one\n",
            "cell!\n"
          ],
          "name": "stdout"
        }
      ]
    },
    {
      "metadata": {
        "id": "ukYq4miFrn-Q",
        "colab_type": "code",
        "outputId": "854f71d0-f975-436a-f8a4-568103d1bbef",
        "colab": {
          "base_uri": "https://localhost:8080/",
          "height": 34
        }
      },
      "cell_type": "code",
      "source": [
        "line = \"Let's do a small introduction to arrays and for loops\"\n",
        "splitted = line.split(' ')\n",
        "print(splitted)"
      ],
      "execution_count": 0,
      "outputs": [
        {
          "output_type": "stream",
          "text": [
            "[\"Let's\", 'do', 'a', 'small', 'introduction', 'to', 'arrays', 'and', 'for', 'loops']\n"
          ],
          "name": "stdout"
        }
      ]
    },
    {
      "metadata": {
        "id": "UOBLXn-Lr0x7",
        "colab_type": "code",
        "outputId": "b0b27ede-0b4d-4483-e901-df2803a19e19",
        "colab": {
          "base_uri": "https://localhost:8080/",
          "height": 34
        }
      },
      "cell_type": "code",
      "source": [
        "type(splitted)"
      ],
      "execution_count": 0,
      "outputs": [
        {
          "output_type": "execute_result",
          "data": {
            "text/plain": [
              "list"
            ]
          },
          "metadata": {
            "tags": []
          },
          "execution_count": 9
        }
      ]
    },
    {
      "metadata": {
        "id": "YdngHEk5r5Pi",
        "colab_type": "code",
        "outputId": "914647d3-9a15-4fcc-ef8b-ee7094f62aa7",
        "colab": {
          "base_uri": "https://localhost:8080/",
          "height": 187
        }
      },
      "cell_type": "code",
      "source": [
        "for word in splitted:\n",
        "  print(word)"
      ],
      "execution_count": 0,
      "outputs": [
        {
          "output_type": "stream",
          "text": [
            "Let's\n",
            "do\n",
            "a\n",
            "small\n",
            "introduction\n",
            "to\n",
            "arrays\n",
            "and\n",
            "for\n",
            "loops\n"
          ],
          "name": "stdout"
        }
      ]
    },
    {
      "metadata": {
        "id": "K2AnH63Sr8Qc",
        "colab_type": "code",
        "outputId": "3174e09c-b8ac-4880-94e0-5aa10115e771",
        "colab": {
          "base_uri": "https://localhost:8080/",
          "height": 68
        }
      },
      "cell_type": "code",
      "source": [
        "for i in range(3):\n",
        "  print(i)"
      ],
      "execution_count": 0,
      "outputs": [
        {
          "output_type": "stream",
          "text": [
            "0\n",
            "1\n",
            "2\n"
          ],
          "name": "stdout"
        }
      ]
    },
    {
      "metadata": {
        "id": "fnPVBlZUsZQO",
        "colab_type": "code",
        "outputId": "1e110a34-26fa-4167-b36e-06bce7346a38",
        "colab": {
          "base_uri": "https://localhost:8080/",
          "height": 34
        }
      },
      "cell_type": "code",
      "source": [
        "print(len(splitted))"
      ],
      "execution_count": 0,
      "outputs": [
        {
          "output_type": "stream",
          "text": [
            "10\n"
          ],
          "name": "stdout"
        }
      ]
    },
    {
      "metadata": {
        "id": "IgV8SOXPscKn",
        "colab_type": "code",
        "outputId": "0451b731-7bc9-46d2-f776-7407f6da4f1d",
        "colab": {
          "base_uri": "https://localhost:8080/",
          "height": 187
        }
      },
      "cell_type": "code",
      "source": [
        "for i in range(len(splitted)):\n",
        "  print(splitted[i])"
      ],
      "execution_count": 0,
      "outputs": [
        {
          "output_type": "stream",
          "text": [
            "Let's\n",
            "do\n",
            "a\n",
            "small\n",
            "introduction\n",
            "to\n",
            "arrays\n",
            "and\n",
            "for\n",
            "loops\n"
          ],
          "name": "stdout"
        }
      ]
    },
    {
      "metadata": {
        "id": "jMUp1TpQsgV3",
        "colab_type": "code",
        "outputId": "8b0bd59d-fb9d-4a47-f103-e8fe638169b6",
        "colab": {
          "base_uri": "https://localhost:8080/",
          "height": 34
        }
      },
      "cell_type": "code",
      "source": [
        "print(splitted[2])"
      ],
      "execution_count": 0,
      "outputs": [
        {
          "output_type": "stream",
          "text": [
            "a\n"
          ],
          "name": "stdout"
        }
      ]
    },
    {
      "metadata": {
        "id": "N8eaTKs3sj2w",
        "colab_type": "code",
        "outputId": "23ed3bfa-f3d0-483b-d371-a3c4db1ccb2e",
        "colab": {
          "base_uri": "https://localhost:8080/",
          "height": 34
        }
      },
      "cell_type": "code",
      "source": [
        "print(splitted[:2])"
      ],
      "execution_count": 0,
      "outputs": [
        {
          "output_type": "stream",
          "text": [
            "[\"Let's\", 'do']\n"
          ],
          "name": "stdout"
        }
      ]
    },
    {
      "metadata": {
        "id": "bh0nl-3dsmS4",
        "colab_type": "code",
        "outputId": "13d82a9b-ed2f-47df-97a5-ef38bddb55ca",
        "colab": {
          "base_uri": "https://localhost:8080/",
          "height": 34
        }
      },
      "cell_type": "code",
      "source": [
        "print(splitted[-1])"
      ],
      "execution_count": 0,
      "outputs": [
        {
          "output_type": "stream",
          "text": [
            "loops\n"
          ],
          "name": "stdout"
        }
      ]
    },
    {
      "metadata": {
        "id": "d7zYPjwksow5",
        "colab_type": "code",
        "outputId": "88b2a28e-00bd-4d06-f55c-a5f349bd1662",
        "colab": {
          "base_uri": "https://localhost:8080/",
          "height": 34
        }
      },
      "cell_type": "code",
      "source": [
        "print(splitted[-2:])"
      ],
      "execution_count": 0,
      "outputs": [
        {
          "output_type": "stream",
          "text": [
            "['for', 'loops']\n"
          ],
          "name": "stdout"
        }
      ]
    },
    {
      "metadata": {
        "id": "Fxv6sPbprukR",
        "colab_type": "text"
      },
      "cell_type": "markdown",
      "source": [
        "# Exercises\n",
        "\n",
        "Let start with generating some fake random data. You can get a random number between 0 and 1 using the python random module as follow:"
      ]
    },
    {
      "metadata": {
        "id": "nXFNKPnrWOTD",
        "colab_type": "code",
        "colab": {}
      },
      "cell_type": "code",
      "source": [
        "import random # Did you notice 'import' statement before?\n",
        "x=random.random()\n",
        "print(\"The Value of x is\", x)"
      ],
      "execution_count": 0,
      "outputs": []
    },
    {
      "metadata": {
        "id": "OKpU0kauWlCX",
        "colab_type": "text"
      },
      "cell_type": "markdown",
      "source": [
        "### Exercise 1.1\n",
        "\n",
        "Using random, write a function GenerateData(N, mymin, mymax), that returns a python list containing N random numbers between specified minimum and maximum value. Note that you may want to quickly work out on paper how to turn numbers between 0 and 1 to between other values.\n"
      ]
    },
    {
      "metadata": {
        "id": "u55kGmF4WtRh",
        "colab_type": "code",
        "outputId": "bd1a838a-67d8-41f7-a262-747c16082d89",
        "colab": {
          "base_uri": "https://localhost:8080/",
          "height": 53
        }
      },
      "cell_type": "code",
      "source": [
        "# Skeleton\n",
        "def GenerateData(N,mymin,mymax):\n",
        "    out = []\n",
        "    ### BEGIN SOLUTION\n",
        "\n",
        "    # Fill in your solution here        \n",
        "    \n",
        "    ### END SOLUTION\n",
        "    return out\n",
        "\n",
        "Data=GenerateData(1000,-10,10)\n",
        "print(\"Data Type:\", type(Data))\n",
        "print(\"Data Length:\", len(Data))\n",
        "if len(Data)>0: \n",
        "    print(\"Type of Data Contents:\", type(Data[0]))\n",
        "    print(\"Data Minimum:\", min(Data))\n",
        "    print(\"Data Maximum:\", max(Data))"
      ],
      "execution_count": 0,
      "outputs": [
        {
          "output_type": "stream",
          "text": [
            "Data Type: <class 'list'>\n",
            "Data Length: 0\n"
          ],
          "name": "stdout"
        }
      ]
    },
    {
      "metadata": {
        "id": "w3-J1a-0a785",
        "colab_type": "text"
      },
      "cell_type": "markdown",
      "source": [
        "### Exercise 1.2\n",
        "\n",
        "Write a function that computes the mean of values in a list.\n"
      ]
    },
    {
      "metadata": {
        "id": "t3RV3Lp5bV9P",
        "colab_type": "code",
        "outputId": "bdd4da86-a999-44f7-b226-2fea229a107a",
        "colab": {
          "base_uri": "https://localhost:8080/",
          "height": 35
        }
      },
      "cell_type": "code",
      "source": [
        "# Skeleton\n",
        "def mean(Data):\n",
        "    m=0\n",
        "    \n",
        "    ### BEGIN SOLUTION\n",
        "\n",
        "    # Fill in your solution here        \n",
        "    \n",
        "    ### END SOLUTION\n",
        "    \n",
        "    return m\n",
        "\n",
        "print(\"Mean of Data:\", mean(Data))"
      ],
      "execution_count": 0,
      "outputs": [
        {
          "output_type": "stream",
          "text": [
            "Mean of Data: 0\n"
          ],
          "name": "stdout"
        }
      ]
    },
    {
      "metadata": {
        "id": "M6WjpCbtbjm_",
        "colab_type": "text"
      },
      "cell_type": "markdown",
      "source": [
        "### Exercise 1.3\n",
        "\n",
        "Write a function the applies a booling function (that returns true/false) to every element in data, and return a list of indices of elements where the result was true. Use this function to find the indices of positive entries.\n"
      ]
    },
    {
      "metadata": {
        "id": "e_JIBJv1cwt6",
        "colab_type": "code",
        "colab": {}
      },
      "cell_type": "code",
      "source": [
        "def where(mylist,myfunc):\n",
        "    out= []\n",
        "    \n",
        "    ### BEGIN SOLUTION\n",
        "\n",
        "    # Fill in your solution here        \n",
        "    \n",
        "    ### END SOLUTION\n",
        "    \n",
        "    return out"
      ],
      "execution_count": 0,
      "outputs": []
    },
    {
      "metadata": {
        "id": "2h9WZaZ5c5R-",
        "colab_type": "text"
      },
      "cell_type": "markdown",
      "source": [
        "### Exercise 1.4\n",
        "\n",
        "The inrange(mymin,mymax) function below returns a function that tests if it's input is between the specified values. Use this function, in conjunction to your solution to 1.3, to demonstrate that your data is \"flat\". Hint: pick several sub-ranges and show that the number of data point divided by the size of the range is roughly constant.\n"
      ]
    },
    {
      "metadata": {
        "id": "a9yNclB3dFOr",
        "colab_type": "code",
        "outputId": "b09e5d49-3410-45ab-d2bc-5d0a599a003b",
        "colab": {
          "base_uri": "https://localhost:8080/",
          "height": 88
        }
      },
      "cell_type": "code",
      "source": [
        "def inrange(mymin,mymax):\n",
        "    def testrange(x):\n",
        "        return x<mymax and x>=mymin\n",
        "    return testrange\n",
        "\n",
        "# Examples:\n",
        "F1=inrange(0,10)\n",
        "F2=inrange(10,20)\n",
        "\n",
        "print(F1(0), F1(1), F1(10), F1(15), F1(20))\n",
        "print(F2(0), F2(1), F2(10), F2(15), F2(20))\n",
        "\n",
        "print(\"Number of Entries passing F1:\", len(where(Data,F1)))\n",
        "print(\"Number of Entries passing F2:\", len(where(Data,F2)))"
      ],
      "execution_count": 0,
      "outputs": [
        {
          "output_type": "stream",
          "text": [
            "True True False False False\n",
            "False False True True False\n",
            "Number of Entries passing F1: 0\n",
            "Number of Entries passing F2: 0\n"
          ],
          "name": "stdout"
        }
      ]
    },
    {
      "metadata": {
        "id": "72n2Z1BVdQ4_",
        "colab_type": "text"
      },
      "cell_type": "markdown",
      "source": [
        "### Exercise 1.5\n",
        "\n",
        "Repeat Exercise 1.5 using the built in python functions sum and map instead of your solution to 1.3.\n"
      ]
    },
    {
      "metadata": {
        "id": "u9W2v70pddJR",
        "colab_type": "code",
        "colab": {}
      },
      "cell_type": "code",
      "source": [
        "### BEGIN SOLUTION\n",
        "\n",
        "    # Fill in your solution here        \n",
        "    \n",
        "### END SOLUTION"
      ],
      "execution_count": 0,
      "outputs": []
    },
    {
      "metadata": {
        "id": "aRE8jfD-dmM7",
        "colab_type": "text"
      },
      "cell_type": "markdown",
      "source": [
        "### Exercise 1.6 (Homework)\n",
        "\n",
        "Write a new function called GenerateDataFromFunction(N,mymin,mymax,myfunc), that instead of generating a flat distribution, generates a distribution with functional form coded in myfunc. Note that myfunc will always be > 0.\n",
        "\n",
        "Use your function to generate 1000 numbers that are Gaussian distributed, using the Gaussian function below. Confirm the mean of the data is close to mean you specify when building the Gaussian.\n",
        "\n",
        "Hint: A simple, but slow, solution is to a draw random number test_x within the specified range and another number p between the min and max of the function (which you will have to determine). If p<=function(test_x), then place test_x on the output. If not, repeat the process, drawing two new numbers. Repeat until you have the specified number of generated numbers, N. For this problem, it's OK to determine the min and max by numerically sampling the function.\n"
      ]
    },
    {
      "metadata": {
        "id": "xTJl0TwBdrWN",
        "colab_type": "code",
        "colab": {}
      },
      "cell_type": "code",
      "source": [
        "import math\n",
        "\n",
        "def gaussian(mean, sigma):\n",
        "    def f(x):\n",
        "        return math.exp(((x-mean)**2)/(2*sigma**2))/math.sqrt(math.pi*sigma)\n",
        "    return f\n",
        "\n",
        "# Example Instantiation\n",
        "g1=gaussian(0,1)\n",
        "g2=gaussian(10,3)\n",
        "\n",
        "### BEGIN SOLUTION\n",
        "\n",
        "# Fill in your solution here        \n",
        "    \n",
        "### END SOLUTION"
      ],
      "execution_count": 0,
      "outputs": []
    },
    {
      "metadata": {
        "id": "Fi6TMSDIePAj",
        "colab_type": "text"
      },
      "cell_type": "markdown",
      "source": [
        "# References\n",
        "\n",
        "*   [Python Lectures](https://github.com/koshikraj/PythonLectures)\n",
        "*   [Lectures on scientific computing with Python](https://github.com/jrjohansson/scientific-python-lectures)\n",
        "* [Python Documentation](https://docs.python.org)\n"
      ]
    }
  ]
}