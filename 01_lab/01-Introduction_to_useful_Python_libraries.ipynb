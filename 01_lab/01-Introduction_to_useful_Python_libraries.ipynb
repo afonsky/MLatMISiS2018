{
  "nbformat": 4,
  "nbformat_minor": 0,
  "metadata": {
    "colab": {
      "name": "Overview of useful Python libraries.ipynb",
      "version": "0.3.2",
      "provenance": [],
      "collapsed_sections": [
        "lcK5eAjBedmi"
      ],
      "toc_visible": true,
      "include_colab_link": true
    },
    "kernelspec": {
      "name": "python3",
      "display_name": "Python 3"
    }
  },
  "cells": [
    {
      "cell_type": "markdown",
      "metadata": {
        "id": "view-in-github",
        "colab_type": "text"
      },
      "source": [
        "<a href=\"https://colab.research.google.com/github/yandexdataschool/MLatMISiS2018/blob/master/01_lab/01-Introduction_to_useful_Python_libraries.ipynb\" target=\"_parent\"><img src=\"https://colab.research.google.com/assets/colab-badge.svg\" alt=\"Open In Colab\"/></a>"
      ]
    },
    {
      "metadata": {
        "id": "cVC3dEW2M1gw",
        "colab_type": "text"
      },
      "cell_type": "markdown",
      "source": [
        "# Overview of useful Python libraries"
      ]
    },
    {
      "metadata": {
        "id": "cuMGoP0fRx0w",
        "colab_type": "text"
      },
      "cell_type": "markdown",
      "source": [
        "# Numpy - multidimensional data arrays"
      ]
    },
    {
      "metadata": {
        "id": "uzyHCTu8SLAd",
        "colab_type": "text"
      },
      "cell_type": "markdown",
      "source": [
        "The numpy package (module) is used in almost all numerical computation using Python. It is a package that provides high-performance vector, matrix and higher-dimensional data structures for Python. It is implemented in C and Fortran so when calculations are vectorized (formulated with vectors and matrices), performance is very good.\n",
        "\n",
        "To use numpy you need to import the module, using for example:"
      ]
    },
    {
      "metadata": {
        "id": "PRt-kOUVSWUz",
        "colab_type": "code",
        "colab": {}
      },
      "cell_type": "code",
      "source": [
        "import numpy as np # 'np' will be a simple alias for accessing numpy functions and classes"
      ],
      "execution_count": 0,
      "outputs": []
    },
    {
      "metadata": {
        "id": "VoEKPVqMSfCN",
        "colab_type": "text"
      },
      "cell_type": "markdown",
      "source": [
        "In the numpy package the main object used for vectors, matrices and higher-dimensional data sets is `ndarray` (the name stands for *n-dimensional array*)."
      ]
    },
    {
      "metadata": {
        "id": "5sHZ4vd8Ujoj",
        "colab_type": "text"
      },
      "cell_type": "markdown",
      "source": [
        "## Creating numpy arrays\n",
        "\n",
        "\n",
        "There are a number of ways to initialize new numpy arrays, for example from:\n",
        "* a Python list or tuples\n",
        "* using functions that are dedicated to generating numpy arrays, such as arange, linspace, etc.\n",
        "* reading data from files"
      ]
    },
    {
      "metadata": {
        "id": "oPKn1n6bU4dr",
        "colab_type": "text"
      },
      "cell_type": "markdown",
      "source": [
        "### From lists\n",
        "\n",
        "For example, to create new vector and matrix arrays from Python lists we can use the numpy.array function."
      ]
    },
    {
      "metadata": {
        "id": "xq451qSPU-tX",
        "colab_type": "code",
        "outputId": "bc57d933-c910-4a7d-caf1-1c84f5af14fa",
        "colab": {
          "base_uri": "https://localhost:8080/",
          "height": 34
        }
      },
      "cell_type": "code",
      "source": [
        "# a vector: the argument to the array function is a Python list\n",
        "v = np.array([1,2,3,4])\n",
        "\n",
        "v"
      ],
      "execution_count": 0,
      "outputs": [
        {
          "output_type": "execute_result",
          "data": {
            "text/plain": [
              "array([1, 2, 3, 4])"
            ]
          },
          "metadata": {
            "tags": []
          },
          "execution_count": 2
        }
      ]
    },
    {
      "metadata": {
        "id": "yCiwxhc7VEcM",
        "colab_type": "code",
        "outputId": "7ae7281d-baa4-436b-c33a-ea6cc084a72e",
        "colab": {
          "base_uri": "https://localhost:8080/",
          "height": 51
        }
      },
      "cell_type": "code",
      "source": [
        "# a matrix: the argument to the array function is a nested Python list\n",
        "M = np.array([[1, 2], [3, 4]])\n",
        "\n",
        "M"
      ],
      "execution_count": 0,
      "outputs": [
        {
          "output_type": "execute_result",
          "data": {
            "text/plain": [
              "array([[1, 2],\n",
              "       [3, 4]])"
            ]
          },
          "metadata": {
            "tags": []
          },
          "execution_count": 3
        }
      ]
    },
    {
      "metadata": {
        "id": "mOIVKcO2VJd0",
        "colab_type": "text"
      },
      "cell_type": "markdown",
      "source": [
        "The v and M objects are both of the type ndarray that the numpy module provides."
      ]
    },
    {
      "metadata": {
        "id": "Ni-CuXGnVLWi",
        "colab_type": "code",
        "outputId": "75210bd2-546d-49b0-fd18-c92c87961f72",
        "colab": {
          "base_uri": "https://localhost:8080/",
          "height": 34
        }
      },
      "cell_type": "code",
      "source": [
        "type(v), type(M)"
      ],
      "execution_count": 0,
      "outputs": [
        {
          "output_type": "execute_result",
          "data": {
            "text/plain": [
              "(numpy.ndarray, numpy.ndarray)"
            ]
          },
          "metadata": {
            "tags": []
          },
          "execution_count": 4
        }
      ]
    },
    {
      "metadata": {
        "id": "iWkQXw9iVSby",
        "colab_type": "text"
      },
      "cell_type": "markdown",
      "source": [
        "The difference between the v and M arrays is only their shapes. We can get information about the shape of an array by using the ndarray.shape property."
      ]
    },
    {
      "metadata": {
        "id": "3OJB-Z5mVTj_",
        "colab_type": "code",
        "outputId": "4ebc110d-1b4e-4be4-d046-d5a817d38399",
        "colab": {
          "base_uri": "https://localhost:8080/",
          "height": 34
        }
      },
      "cell_type": "code",
      "source": [
        "v.shape"
      ],
      "execution_count": 0,
      "outputs": [
        {
          "output_type": "execute_result",
          "data": {
            "text/plain": [
              "(4,)"
            ]
          },
          "metadata": {
            "tags": []
          },
          "execution_count": 5
        }
      ]
    },
    {
      "metadata": {
        "id": "TWsorcCUVXCv",
        "colab_type": "code",
        "outputId": "3fff6788-e160-46bf-8275-a33bf79bf13a",
        "colab": {
          "base_uri": "https://localhost:8080/",
          "height": 34
        }
      },
      "cell_type": "code",
      "source": [
        "M.shape"
      ],
      "execution_count": 0,
      "outputs": [
        {
          "output_type": "execute_result",
          "data": {
            "text/plain": [
              "(2, 2)"
            ]
          },
          "metadata": {
            "tags": []
          },
          "execution_count": 6
        }
      ]
    },
    {
      "metadata": {
        "id": "Xm6bGpi_Vbwj",
        "colab_type": "text"
      },
      "cell_type": "markdown",
      "source": [
        "The number of elements in the array is available through the ndarray.size property:"
      ]
    },
    {
      "metadata": {
        "id": "fSE-v_N6Vspu",
        "colab_type": "code",
        "outputId": "d29cee0e-0782-4f3e-f482-534e42c8b588",
        "colab": {
          "base_uri": "https://localhost:8080/",
          "height": 34
        }
      },
      "cell_type": "code",
      "source": [
        "M.size"
      ],
      "execution_count": 0,
      "outputs": [
        {
          "output_type": "execute_result",
          "data": {
            "text/plain": [
              "4"
            ]
          },
          "metadata": {
            "tags": []
          },
          "execution_count": 7
        }
      ]
    },
    {
      "metadata": {
        "id": "qLPOSgU8VvEu",
        "colab_type": "text"
      },
      "cell_type": "markdown",
      "source": [
        "So far the numpy.ndarray looks awefully much like a Python list (or nested list). Why not simply use Python lists for computations instead of creating a new array type?\n",
        "\n",
        "There are several reasons:\n",
        "\n",
        "* Python lists are very general. They can contain any kind of object. They are dynamically typed. They do not support mathematical functions such as matrix and dot multiplications, etc. Implementing such functions for Python lists would not be very efficient because of the dynamic typing.\n",
        "* Numpy arrays are statically typed and homogeneous. The type of the elements is determined when the array is created.\n",
        "* Numpy arrays are memory efficient.\n",
        "* Because of the static typing, fast implementation of mathematical functions such as multiplication and addition of numpy arrays can be implemented in a compiled language (C and Fortran is used).\n"
      ]
    },
    {
      "metadata": {
        "id": "zzrZu9n2WOxs",
        "colab_type": "text"
      },
      "cell_type": "markdown",
      "source": [
        "Using the dtype (data type) property of an ndarray, we can see what type the data of an array has:"
      ]
    },
    {
      "metadata": {
        "id": "Z0UXT3MRWY3_",
        "colab_type": "code",
        "outputId": "b2d607e0-4217-4f48-ec04-4b6d69703f0d",
        "colab": {
          "base_uri": "https://localhost:8080/",
          "height": 34
        }
      },
      "cell_type": "code",
      "source": [
        "M.dtype"
      ],
      "execution_count": 0,
      "outputs": [
        {
          "output_type": "execute_result",
          "data": {
            "text/plain": [
              "dtype('int64')"
            ]
          },
          "metadata": {
            "tags": []
          },
          "execution_count": 8
        }
      ]
    },
    {
      "metadata": {
        "id": "CuPNnwl2WbOu",
        "colab_type": "text"
      },
      "cell_type": "markdown",
      "source": [
        "We get an error if we try to assign a value of the wrong type to an element in a numpy array:"
      ]
    },
    {
      "metadata": {
        "id": "gWavacU2WgRA",
        "colab_type": "code",
        "outputId": "44e62639-1ee7-458b-91fe-4c4d381b3081",
        "colab": {
          "base_uri": "https://localhost:8080/",
          "height": 164
        }
      },
      "cell_type": "code",
      "source": [
        "M[0,0] = \"hello\""
      ],
      "execution_count": 0,
      "outputs": [
        {
          "output_type": "error",
          "ename": "ValueError",
          "evalue": "ignored",
          "traceback": [
            "\u001b[0;31m---------------------------------------------------------------------------\u001b[0m",
            "\u001b[0;31mValueError\u001b[0m                                Traceback (most recent call last)",
            "\u001b[0;32m<ipython-input-9-e1f336250f69>\u001b[0m in \u001b[0;36m<module>\u001b[0;34m()\u001b[0m\n\u001b[0;32m----> 1\u001b[0;31m \u001b[0mM\u001b[0m\u001b[0;34m[\u001b[0m\u001b[0;36m0\u001b[0m\u001b[0;34m,\u001b[0m\u001b[0;36m0\u001b[0m\u001b[0;34m]\u001b[0m \u001b[0;34m=\u001b[0m \u001b[0;34m\"hello\"\u001b[0m\u001b[0;34m\u001b[0m\u001b[0m\n\u001b[0m",
            "\u001b[0;31mValueError\u001b[0m: invalid literal for int() with base 10: 'hello'"
          ]
        }
      ]
    },
    {
      "metadata": {
        "id": "ACsuDpJ2Wp0f",
        "colab_type": "text"
      },
      "cell_type": "markdown",
      "source": [
        "If we want, we can explicitly define the type of the array data when we create it, using the dtype keyword argument:"
      ]
    },
    {
      "metadata": {
        "id": "d9GkwHflX2i3",
        "colab_type": "code",
        "outputId": "3d0d1786-5c2d-4458-c63e-4b9620cc6276",
        "colab": {
          "base_uri": "https://localhost:8080/",
          "height": 51
        }
      },
      "cell_type": "code",
      "source": [
        "M = np.array([[1, 2], [3, 4]], dtype=complex)\n",
        "\n",
        "M"
      ],
      "execution_count": 0,
      "outputs": [
        {
          "output_type": "execute_result",
          "data": {
            "text/plain": [
              "array([[1.+0.j, 2.+0.j],\n",
              "       [3.+0.j, 4.+0.j]])"
            ]
          },
          "metadata": {
            "tags": []
          },
          "execution_count": 10
        }
      ]
    },
    {
      "metadata": {
        "id": "b6h81GI6X6fk",
        "colab_type": "text"
      },
      "cell_type": "markdown",
      "source": [
        "Common data types that can be used with dtype are: int, float, complex, bool, object, etc.\n",
        "\n",
        "We can also explicitly define the bit size of the data types, for example: int64, int16, float128, complex128."
      ]
    },
    {
      "metadata": {
        "id": "dN1zq5_8X85f",
        "colab_type": "text"
      },
      "cell_type": "markdown",
      "source": [
        "### Using array-generating functions\n",
        "\n",
        "For larger arrays it is inpractical to initialize the data manually, using explicit python lists. Instead we can use one of the many functions in numpy that generate arrays of different forms. Some of the more common are:"
      ]
    },
    {
      "metadata": {
        "id": "wFuKSKAmYKnD",
        "colab_type": "text"
      },
      "cell_type": "markdown",
      "source": [
        "**arange**"
      ]
    },
    {
      "metadata": {
        "id": "HCBcveFrYIBR",
        "colab_type": "code",
        "outputId": "9e3eaca6-55fb-4402-f481-f45f25b0e876",
        "colab": {
          "base_uri": "https://localhost:8080/",
          "height": 34
        }
      },
      "cell_type": "code",
      "source": [
        "# create a range\n",
        "\n",
        "x = np.arange(0, 10, 1) # arguments: start, stop, step\n",
        "\n",
        "x"
      ],
      "execution_count": 0,
      "outputs": [
        {
          "output_type": "execute_result",
          "data": {
            "text/plain": [
              "array([0, 1, 2, 3, 4, 5, 6, 7, 8, 9])"
            ]
          },
          "metadata": {
            "tags": []
          },
          "execution_count": 11
        }
      ]
    },
    {
      "metadata": {
        "id": "dqKvF_8vYV2o",
        "colab_type": "code",
        "outputId": "49e0361c-b68b-44a6-b5d3-49480b35a60b",
        "colab": {
          "base_uri": "https://localhost:8080/",
          "height": 102
        }
      },
      "cell_type": "code",
      "source": [
        "x = np.arange(-1, 1, 0.1)\n",
        "\n",
        "x"
      ],
      "execution_count": 0,
      "outputs": [
        {
          "output_type": "execute_result",
          "data": {
            "text/plain": [
              "array([-1.00000000e+00, -9.00000000e-01, -8.00000000e-01, -7.00000000e-01,\n",
              "       -6.00000000e-01, -5.00000000e-01, -4.00000000e-01, -3.00000000e-01,\n",
              "       -2.00000000e-01, -1.00000000e-01, -2.22044605e-16,  1.00000000e-01,\n",
              "        2.00000000e-01,  3.00000000e-01,  4.00000000e-01,  5.00000000e-01,\n",
              "        6.00000000e-01,  7.00000000e-01,  8.00000000e-01,  9.00000000e-01])"
            ]
          },
          "metadata": {
            "tags": []
          },
          "execution_count": 12
        }
      ]
    },
    {
      "metadata": {
        "id": "L5xTmYEXYe0U",
        "colab_type": "text"
      },
      "cell_type": "markdown",
      "source": [
        "**linspace** and **logspace**"
      ]
    },
    {
      "metadata": {
        "id": "QD0N6fNAYi1K",
        "colab_type": "code",
        "outputId": "6ddd4c3f-ffe5-44c5-9a97-4fd779d080d3",
        "colab": {
          "base_uri": "https://localhost:8080/",
          "height": 102
        }
      },
      "cell_type": "code",
      "source": [
        "# using linspace, both end points ARE included\n",
        "np.linspace(0, 10, 25)"
      ],
      "execution_count": 0,
      "outputs": [
        {
          "output_type": "execute_result",
          "data": {
            "text/plain": [
              "array([ 0.        ,  0.41666667,  0.83333333,  1.25      ,  1.66666667,\n",
              "        2.08333333,  2.5       ,  2.91666667,  3.33333333,  3.75      ,\n",
              "        4.16666667,  4.58333333,  5.        ,  5.41666667,  5.83333333,\n",
              "        6.25      ,  6.66666667,  7.08333333,  7.5       ,  7.91666667,\n",
              "        8.33333333,  8.75      ,  9.16666667,  9.58333333, 10.        ])"
            ]
          },
          "metadata": {
            "tags": []
          },
          "execution_count": 13
        }
      ]
    },
    {
      "metadata": {
        "id": "PvVJrEFrYtLo",
        "colab_type": "code",
        "outputId": "efae4be5-1473-420b-e259-30ad556085c0",
        "colab": {
          "base_uri": "https://localhost:8080/",
          "height": 68
        }
      },
      "cell_type": "code",
      "source": [
        "np.logspace(0, 9, 10, base=np.e) # the output is [e^0, e^1, e^2, ... e^9]"
      ],
      "execution_count": 0,
      "outputs": [
        {
          "output_type": "execute_result",
          "data": {
            "text/plain": [
              "array([1.00000000e+00, 2.71828183e+00, 7.38905610e+00, 2.00855369e+01,\n",
              "       5.45981500e+01, 1.48413159e+02, 4.03428793e+02, 1.09663316e+03,\n",
              "       2.98095799e+03, 8.10308393e+03])"
            ]
          },
          "metadata": {
            "tags": []
          },
          "execution_count": 14
        }
      ]
    },
    {
      "metadata": {
        "id": "lgSHcvN3ZsyT",
        "colab_type": "text"
      },
      "cell_type": "markdown",
      "source": [
        "**random data**"
      ]
    },
    {
      "metadata": {
        "id": "4lXB0rjWZ5FF",
        "colab_type": "code",
        "outputId": "d226622e-a4a7-4751-8687-2d75344dbf3d",
        "colab": {
          "base_uri": "https://localhost:8080/",
          "height": 102
        }
      },
      "cell_type": "code",
      "source": [
        "# uniform random numbers in [0,1]\n",
        "np.random.rand(5,5)"
      ],
      "execution_count": 0,
      "outputs": [
        {
          "output_type": "execute_result",
          "data": {
            "text/plain": [
              "array([[0.20720934, 0.41449178, 0.29726535, 0.7657945 , 0.38253601],\n",
              "       [0.52782951, 0.45495206, 0.32894365, 0.72668113, 0.42770758],\n",
              "       [0.49535576, 0.0565168 , 0.93498627, 0.11370953, 0.53761742],\n",
              "       [0.36926628, 0.18596588, 0.9483981 , 0.24981245, 0.32879162],\n",
              "       [0.22838115, 0.92841333, 0.91651562, 0.34337267, 0.20247245]])"
            ]
          },
          "metadata": {
            "tags": []
          },
          "execution_count": 15
        }
      ]
    },
    {
      "metadata": {
        "id": "RwZAwWIHaLwc",
        "colab_type": "code",
        "outputId": "13690365-d2dd-44ef-a1cd-e5b56a417a93",
        "colab": {
          "base_uri": "https://localhost:8080/",
          "height": 68
        }
      },
      "cell_type": "code",
      "source": [
        "# standard normal distributed random numbers\n",
        "np.random.normal(size=(3, 3))"
      ],
      "execution_count": 0,
      "outputs": [
        {
          "output_type": "execute_result",
          "data": {
            "text/plain": [
              "array([[ 1.68805886e-02, -1.89966729e+00,  6.93873477e-01],\n",
              "       [-4.21622406e-02, -1.11967534e-03, -3.75393981e-01],\n",
              "       [ 1.58763225e+00, -2.62547656e-01, -3.89929111e-01]])"
            ]
          },
          "metadata": {
            "tags": []
          },
          "execution_count": 16
        }
      ]
    },
    {
      "metadata": {
        "id": "iNbZDYFxaimY",
        "colab_type": "text"
      },
      "cell_type": "markdown",
      "source": [
        "**zeros** and **ones**"
      ]
    },
    {
      "metadata": {
        "id": "ArDKHxz_an_y",
        "colab_type": "code",
        "outputId": "d51d555c-aedf-4a81-94d1-9de7bc73f04b",
        "colab": {
          "base_uri": "https://localhost:8080/",
          "height": 51
        }
      },
      "cell_type": "code",
      "source": [
        "np.zeros((2,2))"
      ],
      "execution_count": 0,
      "outputs": [
        {
          "output_type": "execute_result",
          "data": {
            "text/plain": [
              "array([[0., 0.],\n",
              "       [0., 0.]])"
            ]
          },
          "metadata": {
            "tags": []
          },
          "execution_count": 17
        }
      ]
    },
    {
      "metadata": {
        "id": "oNZKZdS7atFz",
        "colab_type": "code",
        "outputId": "0dcc700a-a1b1-49e0-b7bb-51ee4714bc7e",
        "colab": {
          "base_uri": "https://localhost:8080/",
          "height": 68
        }
      },
      "cell_type": "code",
      "source": [
        "np.ones((3,3))"
      ],
      "execution_count": 0,
      "outputs": [
        {
          "output_type": "execute_result",
          "data": {
            "text/plain": [
              "array([[1., 1., 1.],\n",
              "       [1., 1., 1.],\n",
              "       [1., 1., 1.]])"
            ]
          },
          "metadata": {
            "tags": []
          },
          "execution_count": 18
        }
      ]
    },
    {
      "metadata": {
        "id": "FrJiGNF1irL2",
        "colab_type": "text"
      },
      "cell_type": "markdown",
      "source": [
        "# matplotlib - 2D and 3D plotting in Python"
      ]
    },
    {
      "metadata": {
        "id": "Volu5AKRiy_n",
        "colab_type": "code",
        "colab": {}
      },
      "cell_type": "code",
      "source": [
        "# This line configures matplotlib to show figures embedded in the notebook, \n",
        "# instead of opening a new window for each figure. More about that later. \n",
        "# If you are using an old version of IPython, try using '%pylab inline' instead.\n",
        "%matplotlib inline"
      ],
      "execution_count": 0,
      "outputs": []
    },
    {
      "metadata": {
        "id": "FhKJxWUdi2Yj",
        "colab_type": "text"
      },
      "cell_type": "markdown",
      "source": [
        "\n",
        "Matplotlib is an excellent 2D and 3D graphics library for generating scientific figures. Some of the many advantages of this library include:\n",
        "\n",
        "* Easy to get started\n",
        "* Support for $\\LaTeX$ formatted labels and texts\n",
        "* Great control of every element in a figure, including figure size and DPI.\n",
        "* High-quality output in many formats, including PNG, PDF, SVG, EPS, and PGF.\n",
        "* GUI for interactively exploring figures and support for headless generation of figure files (useful for batch jobs).\n",
        "\n",
        "One of the key features of matplotlib that I would like to emphasize, and that I think makes matplotlib highly suitable for generating figures for scientific publications is that all aspects of the figure can be controlled programmatically. This is important for reproducibility and convenient when one needs to regenerate the figure with updated data or change its appearance.\n",
        "\n",
        "More information at the Matplotlib web page: [http://matplotlib.org/](http://matplotlib.org/)\n",
        "\n",
        "To get started using Matplotlib in a Python program import the matplotlib.pyplot module under the name plt:\n"
      ]
    },
    {
      "metadata": {
        "id": "XW018QEKjOYx",
        "colab_type": "code",
        "colab": {}
      },
      "cell_type": "code",
      "source": [
        "import matplotlib.pyplot as plt"
      ],
      "execution_count": 0,
      "outputs": []
    },
    {
      "metadata": {
        "id": "NqLa-ZgLjQgG",
        "colab_type": "text"
      },
      "cell_type": "markdown",
      "source": [
        "There two ways of plotting in matplotlib: MATLAB-like and object-oriented."
      ]
    },
    {
      "metadata": {
        "id": "NWTPSEYPkbha",
        "colab_type": "text"
      },
      "cell_type": "markdown",
      "source": [
        "**MATLAB-like:**"
      ]
    },
    {
      "metadata": {
        "id": "QdApePp8jkjM",
        "colab_type": "code",
        "colab": {}
      },
      "cell_type": "code",
      "source": [
        "x = np.linspace(0, 5, 10)\n",
        "y = x ** 2"
      ],
      "execution_count": 0,
      "outputs": []
    },
    {
      "metadata": {
        "id": "vju5x3VIjoKG",
        "colab_type": "code",
        "outputId": "f0378b6a-1e9b-4858-f9bd-f3a452bac2d5",
        "colab": {
          "base_uri": "https://localhost:8080/",
          "height": 311
        }
      },
      "cell_type": "code",
      "source": [
        "plt.figure()\n",
        "plt.plot(x, y, 'r')\n",
        "plt.xlabel('x')\n",
        "plt.ylabel('y')\n",
        "plt.title('title')"
      ],
      "execution_count": 0,
      "outputs": [
        {
          "output_type": "execute_result",
          "data": {
            "text/plain": [
              "Text(0.5,1,'title')"
            ]
          },
          "metadata": {
            "tags": []
          },
          "execution_count": 22
        },
        {
          "output_type": "display_data",
          "data": {
            "image/png": "[encoded data removed]",
            "text/plain": [
              "<matplotlib.figure.Figure at 0x7f155640ea58>"
            ]
          },
          "metadata": {
            "tags": []
          }
        }
      ]
    },
    {
      "metadata": {
        "id": "jKmZhzzvkje1",
        "colab_type": "text"
      },
      "cell_type": "markdown",
      "source": [
        "**Object-oriented:**"
      ]
    },
    {
      "metadata": {
        "id": "I1A8QwQ3kni3",
        "colab_type": "code",
        "outputId": "da3401c0-16f8-4215-de7c-59d3b20b7d14",
        "colab": {
          "base_uri": "https://localhost:8080/",
          "height": 307
        }
      },
      "cell_type": "code",
      "source": [
        "fig = plt.figure()\n",
        "\n",
        "axes = fig.add_axes([0.1, 0.1, 0.8, 0.8]) # left, bottom, width, height (range 0 to 1)\n",
        "\n",
        "axes.plot(x, y, 'r')\n",
        "\n",
        "axes.set_xlabel('x')\n",
        "axes.set_ylabel('y')\n",
        "axes.set_title('title');"
      ],
      "execution_count": 0,
      "outputs": [
        {
          "output_type": "display_data",
          "data": {
            "image/png": "[encoded data removed]",
            "text/plain": [
              "<matplotlib.figure.Figure at 0x7f15563d00b8>"
            ]
          },
          "metadata": {
            "tags": []
          }
        }
      ]
    },
    {
      "metadata": {
        "id": "e6MmCNN-k4Za",
        "colab_type": "text"
      },
      "cell_type": "markdown",
      "source": [
        "Although a little bit more code is involved, the advantage is that we now have full control of where the plot axes are placed, and we can easily add more than one axis to the figure:\n"
      ]
    },
    {
      "metadata": {
        "id": "kJAtBArnk6CE",
        "colab_type": "code",
        "outputId": "d6f5de7a-a23a-4388-97bc-121a734dabf7",
        "colab": {
          "base_uri": "https://localhost:8080/",
          "height": 307
        }
      },
      "cell_type": "code",
      "source": [
        "fig = plt.figure()\n",
        "\n",
        "axes1 = fig.add_axes([0.1, 0.1, 0.8, 0.8]) # main axes\n",
        "axes2 = fig.add_axes([0.2, 0.5, 0.4, 0.3]) # inset axes\n",
        "\n",
        "# main figure\n",
        "axes1.plot(x, y, 'r')\n",
        "axes1.set_xlabel('x')\n",
        "axes1.set_ylabel('y')\n",
        "axes1.set_title('title')\n",
        "\n",
        "# insert\n",
        "axes2.plot(y, x, 'g')\n",
        "axes2.set_xlabel('y')\n",
        "axes2.set_ylabel('x')\n",
        "axes2.set_title('insert title');"
      ],
      "execution_count": 0,
      "outputs": [
        {
          "output_type": "display_data",
          "data": {
            "image/png": "[encoded data removed]",
            "text/plain": [
              "<matplotlib.figure.Figure at 0x7f1553abcc88>"
            ]
          },
          "metadata": {
            "tags": []
          }
        }
      ]
    }
  ]
}